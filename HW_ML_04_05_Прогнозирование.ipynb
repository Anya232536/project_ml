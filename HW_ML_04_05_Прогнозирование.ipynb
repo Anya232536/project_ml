{
  "cells": [
    {
      "cell_type": "markdown",
      "metadata": {
        "id": "view-in-github",
        "colab_type": "text"
      },
      "source": [
        "<a href=\"https://colab.research.google.com/github/Anya232536/project_ml/blob/main/HW_ML_04_05_%D0%9F%D1%80%D0%BE%D0%B3%D0%BD%D0%BE%D0%B7%D0%B8%D1%80%D0%BE%D0%B2%D0%B0%D0%BD%D0%B8%D0%B5.ipynb\" target=\"_parent\"><img src=\"https://colab.research.google.com/assets/colab-badge.svg\" alt=\"Open In Colab\"/></a>"
      ]
    },
    {
      "cell_type": "markdown",
      "metadata": {
        "id": "1_lrjalRgl3R"
      },
      "source": [
        "# Кейс по моделированию"
      ]
    },
    {
      "cell_type": "markdown",
      "metadata": {
        "id": "SJNFDwXQgl3Y"
      },
      "source": [
        "### Данные"
      ]
    },
    {
      "cell_type": "markdown",
      "metadata": {
        "id": "8iHzwIGcgl3Z"
      },
      "source": [
        "Вам предлагается решить задачу бинарной классификации, а именно построить алгоритм, определяющий, превысит ли средний заработок человека порог $50k"
      ]
    },
    {
      "cell_type": "markdown",
      "metadata": {
        "id": "JkbCCyfigl3a"
      },
      "source": [
        "#### Как оценить качество алгоритма"
      ]
    },
    {
      "cell_type": "markdown",
      "metadata": {
        "id": "nhQitvlcgl3a"
      },
      "source": [
        "Будем смотреть на показатель Area Under ROC Curve (ROC_AUC). Напомню, что он тем выше, чем мы правильнее упорядочиваем наши предсказанные \"вероятности\"."
      ]
    },
    {
      "cell_type": "markdown",
      "metadata": {
        "id": "xu6XIzaxgl3b"
      },
      "source": [
        "#### Делаем важные импорты"
      ]
    },
    {
      "cell_type": "code",
      "execution_count": null,
      "metadata": {
        "id": "tOwO2svegl3c"
      },
      "outputs": [],
      "source": [
        "import numpy as np\n",
        "import pandas as pd\n",
        "from matplotlib import pyplot as plt\n",
        "import warnings\n",
        "warnings.filterwarnings(\"ignore\")"
      ]
    },
    {
      "cell_type": "markdown",
      "metadata": {
        "id": "J2FlMI2Agl3e"
      },
      "source": [
        "#### Данные"
      ]
    },
    {
      "cell_type": "markdown",
      "metadata": {
        "id": "_vMFccmWgl3e"
      },
      "source": [
        "1) age (Возраст): continuous.\n",
        "\n",
        "2) workclass (Информация о работе): Private, Self-emp-not-inc, Self-emp-inc, Federal-gov, Local-gov, State-gov, Without-pay, Never-worked.\n",
        "\n",
        "3) fnlwgt (Вещественный признак - анонимен): continuous.\n",
        "\n",
        "4) education (Образование): Bachelors, Some-college, 11th, HS-grad, Prof-school, Assoc-acdm, Assoc-voc, 9th, 7th-8th, 12th, Masters, 1st-4th, 10th, Doctorate, 5th-6th, Preschool.\n",
        "\n",
        "5) education-num: continuous.\n",
        "\n",
        "6) marital-status (Семейное положение): Married-civ-spouse, Divorced, Never-married, Separated, Widowed, Married-spouse-absent, Married-AF-spouse.\n",
        "\n",
        "7) occupation (Род деятельности): Tech-support, Craft-repair, Other-service, Sales, Exec-managerial, Prof-specialty, Handlers-cleaners, Machine-op-inspct, Adm-clerical, Farming-fishing, Transport-moving, Priv-house-serv, Protective-serv, Armed-Forces.\n",
        "\n",
        "8) relationship (Статус в семье): Wife, Own-child, Husband, Not-in-family, Other-relative, Unmarried.\n",
        "\n",
        "9) race (Раса): White, Asian-Pac-Islander, Amer-Indian-Eskimo, Other, Black.\n",
        "\n",
        "10) sex (Пол): Female, Male.\n",
        "\n",
        "11) capital-gain (Размер капитала): continuous.\n",
        "\n",
        "12) capital-loss (Фича на основе капитала): continuous.\n",
        "\n",
        "13) hours-per-week (Сколько часов в неделю работает): continuous.\n",
        "\n",
        "14) >50K,<=50K (Ваш таргет)"
      ]
    },
    {
      "cell_type": "markdown",
      "metadata": {
        "id": "IYh5tAJCgl3f"
      },
      "source": [
        "#### Скачиваем данные"
      ]
    },
    {
      "cell_type": "code",
      "execution_count": null,
      "metadata": {
        "colab": {
          "base_uri": "https://localhost:8080/"
        },
        "id": "XziRNmxOgl3g",
        "outputId": "29d7239a-07a7-40a3-b191-9c779e02fa54"
      },
      "outputs": [
        {
          "output_type": "stream",
          "name": "stdout",
          "text": [
            "<class 'pandas.core.frame.DataFrame'>\n",
            "RangeIndex: 16280 entries, 0 to 16279\n",
            "Data columns (total 14 columns):\n",
            " #   Column          Non-Null Count  Dtype \n",
            "---  ------          --------------  ----- \n",
            " 0   age             16280 non-null  int64 \n",
            " 1   workclass       15351 non-null  object\n",
            " 2   fnlwgt          16280 non-null  int64 \n",
            " 3   education       16280 non-null  object\n",
            " 4   education-num   16280 non-null  int64 \n",
            " 5   marital-status  16280 non-null  object\n",
            " 6   occupation      15347 non-null  object\n",
            " 7   relationship    16280 non-null  object\n",
            " 8   race            16280 non-null  object\n",
            " 9   sex             16280 non-null  object\n",
            " 10  capital-gain    16280 non-null  int64 \n",
            " 11  capital-loss    16280 non-null  int64 \n",
            " 12  hours-per-week  16280 non-null  int64 \n",
            " 13  >50K,<=50K      16280 non-null  object\n",
            "dtypes: int64(6), object(8)\n",
            "memory usage: 1.7+ MB\n"
          ]
        }
      ],
      "source": [
        "# В данной таблице NaNы заполнены значком '?' - заменим его на проспуски с помощью параметра \"na_values\"\n",
        "data_adult = pd.read_csv(\"HW_ML_04-05_data.adult.csv\", na_values='?')\n",
        "data_adult.info()\n"
      ]
    },
    {
      "cell_type": "markdown",
      "metadata": {
        "id": "Bf5um823gl3g"
      },
      "source": [
        "### 1. Анализ"
      ]
    },
    {
      "cell_type": "markdown",
      "metadata": {
        "id": "qLziTteEgl3h"
      },
      "source": [
        "\n",
        "- Найдите все признаки, имеющие пропущенные значения. Удалите из выборки все объекты с пропусками.\n",
        "\n",
        "- Проведите анализ (количество строк, количество строк после удаления (use df.shape),...)"
      ]
    },
    {
      "cell_type": "code",
      "execution_count": null,
      "metadata": {
        "colab": {
          "base_uri": "https://localhost:8080/",
          "height": 817
        },
        "id": "kq2toCe0gl3i",
        "outputId": "b63b0856-be38-4f21-b420-a4215999b56a"
      },
      "outputs": [
        {
          "output_type": "stream",
          "name": "stdout",
          "text": [
            "(15347, 14)\n"
          ]
        },
        {
          "output_type": "execute_result",
          "data": {
            "text/plain": [
              "       age  workclass  fnlwgt     education  education-num  \\\n",
              "0       34  Local-gov  284843       HS-grad              9   \n",
              "1       40    Private  190290  Some-college             10   \n",
              "2       36  Local-gov  177858     Bachelors             13   \n",
              "3       22    Private  184756  Some-college             10   \n",
              "4       47    Private  149700     Bachelors             13   \n",
              "...    ...        ...     ...           ...            ...   \n",
              "15342   25  Local-gov  514716     Bachelors             13   \n",
              "15343   32    Private  207668     Bachelors             13   \n",
              "15344   27    Private  104457     Bachelors             13   \n",
              "15345   59  State-gov  268700       HS-grad              9   \n",
              "15346   33    Private   59083     Bachelors             13   \n",
              "\n",
              "           marital-status         occupation   relationship  \\\n",
              "0           Never-married    Farming-fishing  Not-in-family   \n",
              "1                Divorced              Sales  Not-in-family   \n",
              "2      Married-civ-spouse     Prof-specialty      Own-child   \n",
              "3           Never-married              Sales      Own-child   \n",
              "4      Married-civ-spouse       Tech-support        Husband   \n",
              "...                   ...                ...            ...   \n",
              "15342       Never-married       Adm-clerical      Own-child   \n",
              "15343  Married-civ-spouse    Exec-managerial        Husband   \n",
              "15344       Never-married  Machine-op-inspct  Not-in-family   \n",
              "15345  Married-civ-spouse      Other-service        Husband   \n",
              "15346  Married-civ-spouse       Adm-clerical        Husband   \n",
              "\n",
              "                     race     sex  capital-gain  capital-loss  hours-per-week  \\\n",
              "0                   Black    Male           594             0              60   \n",
              "1                   White    Male             0             0              40   \n",
              "2                   White    Male             0             0              40   \n",
              "3                   White  Female             0             0              30   \n",
              "4                   White    Male         15024             0              40   \n",
              "...                   ...     ...           ...           ...             ...   \n",
              "15342               Black  Female             0             0              40   \n",
              "15343               White    Male         15024             0              45   \n",
              "15344  Asian-Pac-Islander    Male             0             0              40   \n",
              "15345               White    Male             0             0              40   \n",
              "15346               White    Male             0          1902              45   \n",
              "\n",
              "      >50K,<=50K  \n",
              "0          <=50K  \n",
              "1          <=50K  \n",
              "2          <=50K  \n",
              "3          <=50K  \n",
              "4           >50K  \n",
              "...          ...  \n",
              "15342      <=50K  \n",
              "15343       >50K  \n",
              "15344      <=50K  \n",
              "15345      <=50K  \n",
              "15346       >50K  \n",
              "\n",
              "[15347 rows x 14 columns]"
            ],
            "text/html": [
              "\n",
              "  <div id=\"df-48b696aa-59b3-411a-9ef0-6a8204600ddb\">\n",
              "    <div class=\"colab-df-container\">\n",
              "      <div>\n",
              "<style scoped>\n",
              "    .dataframe tbody tr th:only-of-type {\n",
              "        vertical-align: middle;\n",
              "    }\n",
              "\n",
              "    .dataframe tbody tr th {\n",
              "        vertical-align: top;\n",
              "    }\n",
              "\n",
              "    .dataframe thead th {\n",
              "        text-align: right;\n",
              "    }\n",
              "</style>\n",
              "<table border=\"1\" class=\"dataframe\">\n",
              "  <thead>\n",
              "    <tr style=\"text-align: right;\">\n",
              "      <th></th>\n",
              "      <th>age</th>\n",
              "      <th>workclass</th>\n",
              "      <th>fnlwgt</th>\n",
              "      <th>education</th>\n",
              "      <th>education-num</th>\n",
              "      <th>marital-status</th>\n",
              "      <th>occupation</th>\n",
              "      <th>relationship</th>\n",
              "      <th>race</th>\n",
              "      <th>sex</th>\n",
              "      <th>capital-gain</th>\n",
              "      <th>capital-loss</th>\n",
              "      <th>hours-per-week</th>\n",
              "      <th>&gt;50K,&lt;=50K</th>\n",
              "    </tr>\n",
              "  </thead>\n",
              "  <tbody>\n",
              "    <tr>\n",
              "      <th>0</th>\n",
              "      <td>34</td>\n",
              "      <td>Local-gov</td>\n",
              "      <td>284843</td>\n",
              "      <td>HS-grad</td>\n",
              "      <td>9</td>\n",
              "      <td>Never-married</td>\n",
              "      <td>Farming-fishing</td>\n",
              "      <td>Not-in-family</td>\n",
              "      <td>Black</td>\n",
              "      <td>Male</td>\n",
              "      <td>594</td>\n",
              "      <td>0</td>\n",
              "      <td>60</td>\n",
              "      <td>&lt;=50K</td>\n",
              "    </tr>\n",
              "    <tr>\n",
              "      <th>1</th>\n",
              "      <td>40</td>\n",
              "      <td>Private</td>\n",
              "      <td>190290</td>\n",
              "      <td>Some-college</td>\n",
              "      <td>10</td>\n",
              "      <td>Divorced</td>\n",
              "      <td>Sales</td>\n",
              "      <td>Not-in-family</td>\n",
              "      <td>White</td>\n",
              "      <td>Male</td>\n",
              "      <td>0</td>\n",
              "      <td>0</td>\n",
              "      <td>40</td>\n",
              "      <td>&lt;=50K</td>\n",
              "    </tr>\n",
              "    <tr>\n",
              "      <th>2</th>\n",
              "      <td>36</td>\n",
              "      <td>Local-gov</td>\n",
              "      <td>177858</td>\n",
              "      <td>Bachelors</td>\n",
              "      <td>13</td>\n",
              "      <td>Married-civ-spouse</td>\n",
              "      <td>Prof-specialty</td>\n",
              "      <td>Own-child</td>\n",
              "      <td>White</td>\n",
              "      <td>Male</td>\n",
              "      <td>0</td>\n",
              "      <td>0</td>\n",
              "      <td>40</td>\n",
              "      <td>&lt;=50K</td>\n",
              "    </tr>\n",
              "    <tr>\n",
              "      <th>3</th>\n",
              "      <td>22</td>\n",
              "      <td>Private</td>\n",
              "      <td>184756</td>\n",
              "      <td>Some-college</td>\n",
              "      <td>10</td>\n",
              "      <td>Never-married</td>\n",
              "      <td>Sales</td>\n",
              "      <td>Own-child</td>\n",
              "      <td>White</td>\n",
              "      <td>Female</td>\n",
              "      <td>0</td>\n",
              "      <td>0</td>\n",
              "      <td>30</td>\n",
              "      <td>&lt;=50K</td>\n",
              "    </tr>\n",
              "    <tr>\n",
              "      <th>4</th>\n",
              "      <td>47</td>\n",
              "      <td>Private</td>\n",
              "      <td>149700</td>\n",
              "      <td>Bachelors</td>\n",
              "      <td>13</td>\n",
              "      <td>Married-civ-spouse</td>\n",
              "      <td>Tech-support</td>\n",
              "      <td>Husband</td>\n",
              "      <td>White</td>\n",
              "      <td>Male</td>\n",
              "      <td>15024</td>\n",
              "      <td>0</td>\n",
              "      <td>40</td>\n",
              "      <td>&gt;50K</td>\n",
              "    </tr>\n",
              "    <tr>\n",
              "      <th>...</th>\n",
              "      <td>...</td>\n",
              "      <td>...</td>\n",
              "      <td>...</td>\n",
              "      <td>...</td>\n",
              "      <td>...</td>\n",
              "      <td>...</td>\n",
              "      <td>...</td>\n",
              "      <td>...</td>\n",
              "      <td>...</td>\n",
              "      <td>...</td>\n",
              "      <td>...</td>\n",
              "      <td>...</td>\n",
              "      <td>...</td>\n",
              "      <td>...</td>\n",
              "    </tr>\n",
              "    <tr>\n",
              "      <th>15342</th>\n",
              "      <td>25</td>\n",
              "      <td>Local-gov</td>\n",
              "      <td>514716</td>\n",
              "      <td>Bachelors</td>\n",
              "      <td>13</td>\n",
              "      <td>Never-married</td>\n",
              "      <td>Adm-clerical</td>\n",
              "      <td>Own-child</td>\n",
              "      <td>Black</td>\n",
              "      <td>Female</td>\n",
              "      <td>0</td>\n",
              "      <td>0</td>\n",
              "      <td>40</td>\n",
              "      <td>&lt;=50K</td>\n",
              "    </tr>\n",
              "    <tr>\n",
              "      <th>15343</th>\n",
              "      <td>32</td>\n",
              "      <td>Private</td>\n",
              "      <td>207668</td>\n",
              "      <td>Bachelors</td>\n",
              "      <td>13</td>\n",
              "      <td>Married-civ-spouse</td>\n",
              "      <td>Exec-managerial</td>\n",
              "      <td>Husband</td>\n",
              "      <td>White</td>\n",
              "      <td>Male</td>\n",
              "      <td>15024</td>\n",
              "      <td>0</td>\n",
              "      <td>45</td>\n",
              "      <td>&gt;50K</td>\n",
              "    </tr>\n",
              "    <tr>\n",
              "      <th>15344</th>\n",
              "      <td>27</td>\n",
              "      <td>Private</td>\n",
              "      <td>104457</td>\n",
              "      <td>Bachelors</td>\n",
              "      <td>13</td>\n",
              "      <td>Never-married</td>\n",
              "      <td>Machine-op-inspct</td>\n",
              "      <td>Not-in-family</td>\n",
              "      <td>Asian-Pac-Islander</td>\n",
              "      <td>Male</td>\n",
              "      <td>0</td>\n",
              "      <td>0</td>\n",
              "      <td>40</td>\n",
              "      <td>&lt;=50K</td>\n",
              "    </tr>\n",
              "    <tr>\n",
              "      <th>15345</th>\n",
              "      <td>59</td>\n",
              "      <td>State-gov</td>\n",
              "      <td>268700</td>\n",
              "      <td>HS-grad</td>\n",
              "      <td>9</td>\n",
              "      <td>Married-civ-spouse</td>\n",
              "      <td>Other-service</td>\n",
              "      <td>Husband</td>\n",
              "      <td>White</td>\n",
              "      <td>Male</td>\n",
              "      <td>0</td>\n",
              "      <td>0</td>\n",
              "      <td>40</td>\n",
              "      <td>&lt;=50K</td>\n",
              "    </tr>\n",
              "    <tr>\n",
              "      <th>15346</th>\n",
              "      <td>33</td>\n",
              "      <td>Private</td>\n",
              "      <td>59083</td>\n",
              "      <td>Bachelors</td>\n",
              "      <td>13</td>\n",
              "      <td>Married-civ-spouse</td>\n",
              "      <td>Adm-clerical</td>\n",
              "      <td>Husband</td>\n",
              "      <td>White</td>\n",
              "      <td>Male</td>\n",
              "      <td>0</td>\n",
              "      <td>1902</td>\n",
              "      <td>45</td>\n",
              "      <td>&gt;50K</td>\n",
              "    </tr>\n",
              "  </tbody>\n",
              "</table>\n",
              "<p>15347 rows × 14 columns</p>\n",
              "</div>\n",
              "      <button class=\"colab-df-convert\" onclick=\"convertToInteractive('df-48b696aa-59b3-411a-9ef0-6a8204600ddb')\"\n",
              "              title=\"Convert this dataframe to an interactive table.\"\n",
              "              style=\"display:none;\">\n",
              "        \n",
              "  <svg xmlns=\"http://www.w3.org/2000/svg\" height=\"24px\"viewBox=\"0 0 24 24\"\n",
              "       width=\"24px\">\n",
              "    <path d=\"M0 0h24v24H0V0z\" fill=\"none\"/>\n",
              "    <path d=\"M18.56 5.44l.94 2.06.94-2.06 2.06-.94-2.06-.94-.94-2.06-.94 2.06-2.06.94zm-11 1L8.5 8.5l.94-2.06 2.06-.94-2.06-.94L8.5 2.5l-.94 2.06-2.06.94zm10 10l.94 2.06.94-2.06 2.06-.94-2.06-.94-.94-2.06-.94 2.06-2.06.94z\"/><path d=\"M17.41 7.96l-1.37-1.37c-.4-.4-.92-.59-1.43-.59-.52 0-1.04.2-1.43.59L10.3 9.45l-7.72 7.72c-.78.78-.78 2.05 0 2.83L4 21.41c.39.39.9.59 1.41.59.51 0 1.02-.2 1.41-.59l7.78-7.78 2.81-2.81c.8-.78.8-2.07 0-2.86zM5.41 20L4 18.59l7.72-7.72 1.47 1.35L5.41 20z\"/>\n",
              "  </svg>\n",
              "      </button>\n",
              "      \n",
              "  <style>\n",
              "    .colab-df-container {\n",
              "      display:flex;\n",
              "      flex-wrap:wrap;\n",
              "      gap: 12px;\n",
              "    }\n",
              "\n",
              "    .colab-df-convert {\n",
              "      background-color: #E8F0FE;\n",
              "      border: none;\n",
              "      border-radius: 50%;\n",
              "      cursor: pointer;\n",
              "      display: none;\n",
              "      fill: #1967D2;\n",
              "      height: 32px;\n",
              "      padding: 0 0 0 0;\n",
              "      width: 32px;\n",
              "    }\n",
              "\n",
              "    .colab-df-convert:hover {\n",
              "      background-color: #E2EBFA;\n",
              "      box-shadow: 0px 1px 2px rgba(60, 64, 67, 0.3), 0px 1px 3px 1px rgba(60, 64, 67, 0.15);\n",
              "      fill: #174EA6;\n",
              "    }\n",
              "\n",
              "    [theme=dark] .colab-df-convert {\n",
              "      background-color: #3B4455;\n",
              "      fill: #D2E3FC;\n",
              "    }\n",
              "\n",
              "    [theme=dark] .colab-df-convert:hover {\n",
              "      background-color: #434B5C;\n",
              "      box-shadow: 0px 1px 3px 1px rgba(0, 0, 0, 0.15);\n",
              "      filter: drop-shadow(0px 1px 2px rgba(0, 0, 0, 0.3));\n",
              "      fill: #FFFFFF;\n",
              "    }\n",
              "  </style>\n",
              "\n",
              "      <script>\n",
              "        const buttonEl =\n",
              "          document.querySelector('#df-48b696aa-59b3-411a-9ef0-6a8204600ddb button.colab-df-convert');\n",
              "        buttonEl.style.display =\n",
              "          google.colab.kernel.accessAllowed ? 'block' : 'none';\n",
              "\n",
              "        async function convertToInteractive(key) {\n",
              "          const element = document.querySelector('#df-48b696aa-59b3-411a-9ef0-6a8204600ddb');\n",
              "          const dataTable =\n",
              "            await google.colab.kernel.invokeFunction('convertToInteractive',\n",
              "                                                     [key], {});\n",
              "          if (!dataTable) return;\n",
              "\n",
              "          const docLinkHtml = 'Like what you see? Visit the ' +\n",
              "            '<a target=\"_blank\" href=https://colab.research.google.com/notebooks/data_table.ipynb>data table notebook</a>'\n",
              "            + ' to learn more about interactive tables.';\n",
              "          element.innerHTML = '';\n",
              "          dataTable['output_type'] = 'display_data';\n",
              "          await google.colab.output.renderOutput(dataTable, element);\n",
              "          const docLink = document.createElement('div');\n",
              "          docLink.innerHTML = docLinkHtml;\n",
              "          element.appendChild(docLink);\n",
              "        }\n",
              "      </script>\n",
              "    </div>\n",
              "  </div>\n",
              "  "
            ]
          },
          "metadata": {},
          "execution_count": 4
        }
      ],
      "source": [
        "# use pd.isnull, data_adult.dropna\n",
        "data_adult = data_adult.replace ( r'^\\s\\*$' , np.nan , regex= True )\n",
        "data_adult = data_adult.dropna(how='any')\n",
        "data_adult = data_adult.reset_index(drop=True)\n",
        "print(data_adult.shape)\n",
        "data_adult\n"
      ]
    },
    {
      "cell_type": "markdown",
      "metadata": {
        "id": "OqGjmttGgl3i"
      },
      "source": [
        "**(1 балл)**\n",
        "- Выделите целевую переменную (наш таргет) в отдельную переменную (назовите ее 'target')\n",
        "- Преобразуйте к бинарному формату ({0,1})\n",
        "- Удалите из датасета старую переменную.\n",
        "- Посмотрите распределение целевой переменной"
      ]
    },
    {
      "cell_type": "code",
      "execution_count": null,
      "metadata": {
        "colab": {
          "base_uri": "https://localhost:8080/",
          "height": 447
        },
        "id": "FofykV-3gl3j",
        "outputId": "96d98f9d-2335-4259-fae8-5472ec582b10"
      },
      "outputs": [
        {
          "output_type": "execute_result",
          "data": {
            "text/plain": [
              "<Axes: >"
            ]
          },
          "metadata": {},
          "execution_count": 5
        },
        {
          "output_type": "display_data",
          "data": {
            "text/plain": [
              "<Figure size 640x480 with 1 Axes>"
            ],
            "image/png": "[encoded data removed]"
          },
          "metadata": {}
        }
      ],
      "source": [
        "target =data_adult['>50K,<=50K']\n",
        "target = target.str.replace('>50K', '1')\n",
        "target = target.str.replace('<=50K', '0')\n",
        "data_adult = data_adult.drop(['>50K,<=50K'], axis=1)\n",
        "target\n",
        "#распределение целевой переменной\n",
        "target.hist()"
      ]
    },
    {
      "cell_type": "markdown",
      "metadata": {
        "id": "_sqV-nG9gl3j"
      },
      "source": [
        "**(1 балл)**\n",
        "- Постройте гистограмму распределения признака \"capital-gain\" с количеством бинов=50\n",
        "- Посмотрите процентное соотношение категорий в колонке \"workclass\""
      ]
    },
    {
      "cell_type": "code",
      "execution_count": null,
      "metadata": {
        "id": "Clu6_2MPgl3k",
        "colab": {
          "base_uri": "https://localhost:8080/",
          "height": 591
        },
        "outputId": "3682fc9e-4896-4755-b654-52c695e0ddd3"
      },
      "outputs": [
        {
          "output_type": "execute_result",
          "data": {
            "text/plain": [
              "Private             0.735127\n",
              "Self-emp-not-inc    0.086271\n",
              "Local-gov           0.069525\n",
              "State-gov           0.042028\n",
              "Self-emp-inc        0.036554\n",
              "Federal-gov         0.030038\n",
              "Without-pay         0.000456\n",
              "Name: workclass, dtype: float64"
            ]
          },
          "metadata": {},
          "execution_count": 6
        },
        {
          "output_type": "display_data",
          "data": {
            "text/plain": [
              "<Figure size 640x480 with 1 Axes>"
            ],
            "image/png": "[encoded data removed]"
          },
          "metadata": {}
        }
      ],
      "source": [
        "# use df\\['needed column'\\].hist(bins=...), df\\['needed column'\\].value_counts\n",
        "data_adult.hist (column='capital-gain', bins = 50)\n",
        "data_adult['workclass'].value_counts(normalize=True)"
      ]
    },
    {
      "cell_type": "markdown",
      "metadata": {
        "id": "YD24XV76gl3k"
      },
      "source": [
        "### 2. Категориальные признаки"
      ]
    },
    {
      "cell_type": "markdown",
      "metadata": {
        "id": "mbq-eZUTgl3k"
      },
      "source": [
        "Как вы могли заметить, среди признаков есть категориальные."
      ]
    },
    {
      "cell_type": "markdown",
      "metadata": {
        "id": "s8hyDl8wgl3l"
      },
      "source": [
        "**(1 балл)**\n",
        "- Выделите 3 переменные (cat - список категориальных признаков, num - список вещественных признаков, target - таргет (строка));\n",
        "- Закодируйте категориальные признаки;\n",
        "- Выберите признаки для обучения."
      ]
    },
    {
      "cell_type": "markdown",
      "metadata": {
        "id": "3YSr9Af-gl3l"
      },
      "source": [
        "Чтобы понять, какие признаки категориальные, используйте:\n",
        "- df.dtypes,\n",
        "- df\\[col\\].value_counts,\n",
        "- df\\[col\\].nunique\n",
        "- ..."
      ]
    },
    {
      "cell_type": "code",
      "execution_count": null,
      "metadata": {
        "id": "8wk4Dzevgl3m",
        "colab": {
          "base_uri": "https://localhost:8080/"
        },
        "outputId": "8fbd0c27-385f-4b7d-e321-e1d7075c18cc"
      },
      "outputs": [
        {
          "output_type": "execute_result",
          "data": {
            "text/plain": [
              "0        0\n",
              "1        0\n",
              "2        0\n",
              "3        0\n",
              "4        1\n",
              "        ..\n",
              "15342    0\n",
              "15343    1\n",
              "15344    0\n",
              "15345    0\n",
              "15346    1\n",
              "Name: >50K,<=50K, Length: 15347, dtype: object"
            ]
          },
          "metadata": {},
          "execution_count": 7
        }
      ],
      "source": [
        "\n",
        "cat = [\"workclass\", \"education\", \"marital-status\", \"occupation\", \"relationship\", \"race\", \"sex\"]\n",
        "num = [\"age\", \"fnlwgt\", \"education-num\", \"capital-gain\", \"capital-loss\", \"hours-per-week\"]\n",
        "target"
      ]
    },
    {
      "cell_type": "code",
      "execution_count": null,
      "metadata": {
        "id": "yXf_XYC6gl3m"
      },
      "outputs": [],
      "source": [
        "\n",
        "data_adult = pd.get_dummies(data_adult, columns=[\"workclass\", \"education\", \"marital-status\", \"occupation\", \"relationship\", \"race\", \"sex\"])\n"
      ]
    },
    {
      "cell_type": "code",
      "execution_count": null,
      "metadata": {
        "id": "3oXXGJ4igl3m",
        "colab": {
          "base_uri": "https://localhost:8080/",
          "height": 505
        },
        "outputId": "e0cf1e0a-19c1-4ef4-a7ab-2a45566d211b"
      },
      "outputs": [
        {
          "output_type": "execute_result",
          "data": {
            "text/plain": [
              "       age  capital-gain  capital-loss  education_10th  education_11th  \\\n",
              "0       34           594             0               0               0   \n",
              "1       40             0             0               0               0   \n",
              "2       36             0             0               0               0   \n",
              "3       22             0             0               0               0   \n",
              "4       47         15024             0               0               0   \n",
              "...    ...           ...           ...             ...             ...   \n",
              "15342   25             0             0               0               0   \n",
              "15343   32         15024             0               0               0   \n",
              "15344   27             0             0               0               0   \n",
              "15345   59             0             0               0               0   \n",
              "15346   33             0          1902               0               0   \n",
              "\n",
              "       education_12th  education_1st-4th  education_5th-6th  \\\n",
              "0                   0                  0                  0   \n",
              "1                   0                  0                  0   \n",
              "2                   0                  0                  0   \n",
              "3                   0                  0                  0   \n",
              "4                   0                  0                  0   \n",
              "...               ...                ...                ...   \n",
              "15342               0                  0                  0   \n",
              "15343               0                  0                  0   \n",
              "15344               0                  0                  0   \n",
              "15345               0                  0                  0   \n",
              "15346               0                  0                  0   \n",
              "\n",
              "       education_7th-8th  education_9th  ...  race_White  sex_Female  \\\n",
              "0                      0              0  ...           0           0   \n",
              "1                      0              0  ...           1           0   \n",
              "2                      0              0  ...           1           0   \n",
              "3                      0              0  ...           1           1   \n",
              "4                      0              0  ...           1           0   \n",
              "...                  ...            ...  ...         ...         ...   \n",
              "15342                  0              0  ...           0           1   \n",
              "15343                  0              0  ...           1           0   \n",
              "15344                  0              0  ...           0           0   \n",
              "15345                  0              0  ...           1           0   \n",
              "15346                  0              0  ...           1           0   \n",
              "\n",
              "       sex_Male  workclass_Federal-gov  workclass_Local-gov  \\\n",
              "0             1                      0                    1   \n",
              "1             1                      0                    0   \n",
              "2             1                      0                    1   \n",
              "3             0                      0                    0   \n",
              "4             1                      0                    0   \n",
              "...         ...                    ...                  ...   \n",
              "15342         0                      0                    1   \n",
              "15343         1                      0                    0   \n",
              "15344         1                      0                    0   \n",
              "15345         1                      0                    0   \n",
              "15346         1                      0                    0   \n",
              "\n",
              "       workclass_Private  workclass_Self-emp-inc  workclass_Self-emp-not-inc  \\\n",
              "0                      0                       0                           0   \n",
              "1                      1                       0                           0   \n",
              "2                      0                       0                           0   \n",
              "3                      1                       0                           0   \n",
              "4                      1                       0                           0   \n",
              "...                  ...                     ...                         ...   \n",
              "15342                  0                       0                           0   \n",
              "15343                  1                       0                           0   \n",
              "15344                  1                       0                           0   \n",
              "15345                  0                       0                           0   \n",
              "15346                  1                       0                           0   \n",
              "\n",
              "       workclass_State-gov  workclass_Without-pay  \n",
              "0                        0                      0  \n",
              "1                        0                      0  \n",
              "2                        0                      0  \n",
              "3                        0                      0  \n",
              "4                        0                      0  \n",
              "...                    ...                    ...  \n",
              "15342                    0                      0  \n",
              "15343                    0                      0  \n",
              "15344                    0                      0  \n",
              "15345                    1                      0  \n",
              "15346                    0                      0  \n",
              "\n",
              "[15347 rows x 48 columns]"
            ],
            "text/html": [
              "\n",
              "  <div id=\"df-0f570303-f9a6-48ca-902c-55cab5e2dcb9\">\n",
              "    <div class=\"colab-df-container\">\n",
              "      <div>\n",
              "<style scoped>\n",
              "    .dataframe tbody tr th:only-of-type {\n",
              "        vertical-align: middle;\n",
              "    }\n",
              "\n",
              "    .dataframe tbody tr th {\n",
              "        vertical-align: top;\n",
              "    }\n",
              "\n",
              "    .dataframe thead th {\n",
              "        text-align: right;\n",
              "    }\n",
              "</style>\n",
              "<table border=\"1\" class=\"dataframe\">\n",
              "  <thead>\n",
              "    <tr style=\"text-align: right;\">\n",
              "      <th></th>\n",
              "      <th>age</th>\n",
              "      <th>capital-gain</th>\n",
              "      <th>capital-loss</th>\n",
              "      <th>education_10th</th>\n",
              "      <th>education_11th</th>\n",
              "      <th>education_12th</th>\n",
              "      <th>education_1st-4th</th>\n",
              "      <th>education_5th-6th</th>\n",
              "      <th>education_7th-8th</th>\n",
              "      <th>education_9th</th>\n",
              "      <th>...</th>\n",
              "      <th>race_White</th>\n",
              "      <th>sex_Female</th>\n",
              "      <th>sex_Male</th>\n",
              "      <th>workclass_Federal-gov</th>\n",
              "      <th>workclass_Local-gov</th>\n",
              "      <th>workclass_Private</th>\n",
              "      <th>workclass_Self-emp-inc</th>\n",
              "      <th>workclass_Self-emp-not-inc</th>\n",
              "      <th>workclass_State-gov</th>\n",
              "      <th>workclass_Without-pay</th>\n",
              "    </tr>\n",
              "  </thead>\n",
              "  <tbody>\n",
              "    <tr>\n",
              "      <th>0</th>\n",
              "      <td>34</td>\n",
              "      <td>594</td>\n",
              "      <td>0</td>\n",
              "      <td>0</td>\n",
              "      <td>0</td>\n",
              "      <td>0</td>\n",
              "      <td>0</td>\n",
              "      <td>0</td>\n",
              "      <td>0</td>\n",
              "      <td>0</td>\n",
              "      <td>...</td>\n",
              "      <td>0</td>\n",
              "      <td>0</td>\n",
              "      <td>1</td>\n",
              "      <td>0</td>\n",
              "      <td>1</td>\n",
              "      <td>0</td>\n",
              "      <td>0</td>\n",
              "      <td>0</td>\n",
              "      <td>0</td>\n",
              "      <td>0</td>\n",
              "    </tr>\n",
              "    <tr>\n",
              "      <th>1</th>\n",
              "      <td>40</td>\n",
              "      <td>0</td>\n",
              "      <td>0</td>\n",
              "      <td>0</td>\n",
              "      <td>0</td>\n",
              "      <td>0</td>\n",
              "      <td>0</td>\n",
              "      <td>0</td>\n",
              "      <td>0</td>\n",
              "      <td>0</td>\n",
              "      <td>...</td>\n",
              "      <td>1</td>\n",
              "      <td>0</td>\n",
              "      <td>1</td>\n",
              "      <td>0</td>\n",
              "      <td>0</td>\n",
              "      <td>1</td>\n",
              "      <td>0</td>\n",
              "      <td>0</td>\n",
              "      <td>0</td>\n",
              "      <td>0</td>\n",
              "    </tr>\n",
              "    <tr>\n",
              "      <th>2</th>\n",
              "      <td>36</td>\n",
              "      <td>0</td>\n",
              "      <td>0</td>\n",
              "      <td>0</td>\n",
              "      <td>0</td>\n",
              "      <td>0</td>\n",
              "      <td>0</td>\n",
              "      <td>0</td>\n",
              "      <td>0</td>\n",
              "      <td>0</td>\n",
              "      <td>...</td>\n",
              "      <td>1</td>\n",
              "      <td>0</td>\n",
              "      <td>1</td>\n",
              "      <td>0</td>\n",
              "      <td>1</td>\n",
              "      <td>0</td>\n",
              "      <td>0</td>\n",
              "      <td>0</td>\n",
              "      <td>0</td>\n",
              "      <td>0</td>\n",
              "    </tr>\n",
              "    <tr>\n",
              "      <th>3</th>\n",
              "      <td>22</td>\n",
              "      <td>0</td>\n",
              "      <td>0</td>\n",
              "      <td>0</td>\n",
              "      <td>0</td>\n",
              "      <td>0</td>\n",
              "      <td>0</td>\n",
              "      <td>0</td>\n",
              "      <td>0</td>\n",
              "      <td>0</td>\n",
              "      <td>...</td>\n",
              "      <td>1</td>\n",
              "      <td>1</td>\n",
              "      <td>0</td>\n",
              "      <td>0</td>\n",
              "      <td>0</td>\n",
              "      <td>1</td>\n",
              "      <td>0</td>\n",
              "      <td>0</td>\n",
              "      <td>0</td>\n",
              "      <td>0</td>\n",
              "    </tr>\n",
              "    <tr>\n",
              "      <th>4</th>\n",
              "      <td>47</td>\n",
              "      <td>15024</td>\n",
              "      <td>0</td>\n",
              "      <td>0</td>\n",
              "      <td>0</td>\n",
              "      <td>0</td>\n",
              "      <td>0</td>\n",
              "      <td>0</td>\n",
              "      <td>0</td>\n",
              "      <td>0</td>\n",
              "      <td>...</td>\n",
              "      <td>1</td>\n",
              "      <td>0</td>\n",
              "      <td>1</td>\n",
              "      <td>0</td>\n",
              "      <td>0</td>\n",
              "      <td>1</td>\n",
              "      <td>0</td>\n",
              "      <td>0</td>\n",
              "      <td>0</td>\n",
              "      <td>0</td>\n",
              "    </tr>\n",
              "    <tr>\n",
              "      <th>...</th>\n",
              "      <td>...</td>\n",
              "      <td>...</td>\n",
              "      <td>...</td>\n",
              "      <td>...</td>\n",
              "      <td>...</td>\n",
              "      <td>...</td>\n",
              "      <td>...</td>\n",
              "      <td>...</td>\n",
              "      <td>...</td>\n",
              "      <td>...</td>\n",
              "      <td>...</td>\n",
              "      <td>...</td>\n",
              "      <td>...</td>\n",
              "      <td>...</td>\n",
              "      <td>...</td>\n",
              "      <td>...</td>\n",
              "      <td>...</td>\n",
              "      <td>...</td>\n",
              "      <td>...</td>\n",
              "      <td>...</td>\n",
              "      <td>...</td>\n",
              "    </tr>\n",
              "    <tr>\n",
              "      <th>15342</th>\n",
              "      <td>25</td>\n",
              "      <td>0</td>\n",
              "      <td>0</td>\n",
              "      <td>0</td>\n",
              "      <td>0</td>\n",
              "      <td>0</td>\n",
              "      <td>0</td>\n",
              "      <td>0</td>\n",
              "      <td>0</td>\n",
              "      <td>0</td>\n",
              "      <td>...</td>\n",
              "      <td>0</td>\n",
              "      <td>1</td>\n",
              "      <td>0</td>\n",
              "      <td>0</td>\n",
              "      <td>1</td>\n",
              "      <td>0</td>\n",
              "      <td>0</td>\n",
              "      <td>0</td>\n",
              "      <td>0</td>\n",
              "      <td>0</td>\n",
              "    </tr>\n",
              "    <tr>\n",
              "      <th>15343</th>\n",
              "      <td>32</td>\n",
              "      <td>15024</td>\n",
              "      <td>0</td>\n",
              "      <td>0</td>\n",
              "      <td>0</td>\n",
              "      <td>0</td>\n",
              "      <td>0</td>\n",
              "      <td>0</td>\n",
              "      <td>0</td>\n",
              "      <td>0</td>\n",
              "      <td>...</td>\n",
              "      <td>1</td>\n",
              "      <td>0</td>\n",
              "      <td>1</td>\n",
              "      <td>0</td>\n",
              "      <td>0</td>\n",
              "      <td>1</td>\n",
              "      <td>0</td>\n",
              "      <td>0</td>\n",
              "      <td>0</td>\n",
              "      <td>0</td>\n",
              "    </tr>\n",
              "    <tr>\n",
              "      <th>15344</th>\n",
              "      <td>27</td>\n",
              "      <td>0</td>\n",
              "      <td>0</td>\n",
              "      <td>0</td>\n",
              "      <td>0</td>\n",
              "      <td>0</td>\n",
              "      <td>0</td>\n",
              "      <td>0</td>\n",
              "      <td>0</td>\n",
              "      <td>0</td>\n",
              "      <td>...</td>\n",
              "      <td>0</td>\n",
              "      <td>0</td>\n",
              "      <td>1</td>\n",
              "      <td>0</td>\n",
              "      <td>0</td>\n",
              "      <td>1</td>\n",
              "      <td>0</td>\n",
              "      <td>0</td>\n",
              "      <td>0</td>\n",
              "      <td>0</td>\n",
              "    </tr>\n",
              "    <tr>\n",
              "      <th>15345</th>\n",
              "      <td>59</td>\n",
              "      <td>0</td>\n",
              "      <td>0</td>\n",
              "      <td>0</td>\n",
              "      <td>0</td>\n",
              "      <td>0</td>\n",
              "      <td>0</td>\n",
              "      <td>0</td>\n",
              "      <td>0</td>\n",
              "      <td>0</td>\n",
              "      <td>...</td>\n",
              "      <td>1</td>\n",
              "      <td>0</td>\n",
              "      <td>1</td>\n",
              "      <td>0</td>\n",
              "      <td>0</td>\n",
              "      <td>0</td>\n",
              "      <td>0</td>\n",
              "      <td>0</td>\n",
              "      <td>1</td>\n",
              "      <td>0</td>\n",
              "    </tr>\n",
              "    <tr>\n",
              "      <th>15346</th>\n",
              "      <td>33</td>\n",
              "      <td>0</td>\n",
              "      <td>1902</td>\n",
              "      <td>0</td>\n",
              "      <td>0</td>\n",
              "      <td>0</td>\n",
              "      <td>0</td>\n",
              "      <td>0</td>\n",
              "      <td>0</td>\n",
              "      <td>0</td>\n",
              "      <td>...</td>\n",
              "      <td>1</td>\n",
              "      <td>0</td>\n",
              "      <td>1</td>\n",
              "      <td>0</td>\n",
              "      <td>0</td>\n",
              "      <td>1</td>\n",
              "      <td>0</td>\n",
              "      <td>0</td>\n",
              "      <td>0</td>\n",
              "      <td>0</td>\n",
              "    </tr>\n",
              "  </tbody>\n",
              "</table>\n",
              "<p>15347 rows × 48 columns</p>\n",
              "</div>\n",
              "      <button class=\"colab-df-convert\" onclick=\"convertToInteractive('df-0f570303-f9a6-48ca-902c-55cab5e2dcb9')\"\n",
              "              title=\"Convert this dataframe to an interactive table.\"\n",
              "              style=\"display:none;\">\n",
              "        \n",
              "  <svg xmlns=\"http://www.w3.org/2000/svg\" height=\"24px\"viewBox=\"0 0 24 24\"\n",
              "       width=\"24px\">\n",
              "    <path d=\"M0 0h24v24H0V0z\" fill=\"none\"/>\n",
              "    <path d=\"M18.56 5.44l.94 2.06.94-2.06 2.06-.94-2.06-.94-.94-2.06-.94 2.06-2.06.94zm-11 1L8.5 8.5l.94-2.06 2.06-.94-2.06-.94L8.5 2.5l-.94 2.06-2.06.94zm10 10l.94 2.06.94-2.06 2.06-.94-2.06-.94-.94-2.06-.94 2.06-2.06.94z\"/><path d=\"M17.41 7.96l-1.37-1.37c-.4-.4-.92-.59-1.43-.59-.52 0-1.04.2-1.43.59L10.3 9.45l-7.72 7.72c-.78.78-.78 2.05 0 2.83L4 21.41c.39.39.9.59 1.41.59.51 0 1.02-.2 1.41-.59l7.78-7.78 2.81-2.81c.8-.78.8-2.07 0-2.86zM5.41 20L4 18.59l7.72-7.72 1.47 1.35L5.41 20z\"/>\n",
              "  </svg>\n",
              "      </button>\n",
              "      \n",
              "  <style>\n",
              "    .colab-df-container {\n",
              "      display:flex;\n",
              "      flex-wrap:wrap;\n",
              "      gap: 12px;\n",
              "    }\n",
              "\n",
              "    .colab-df-convert {\n",
              "      background-color: #E8F0FE;\n",
              "      border: none;\n",
              "      border-radius: 50%;\n",
              "      cursor: pointer;\n",
              "      display: none;\n",
              "      fill: #1967D2;\n",
              "      height: 32px;\n",
              "      padding: 0 0 0 0;\n",
              "      width: 32px;\n",
              "    }\n",
              "\n",
              "    .colab-df-convert:hover {\n",
              "      background-color: #E2EBFA;\n",
              "      box-shadow: 0px 1px 2px rgba(60, 64, 67, 0.3), 0px 1px 3px 1px rgba(60, 64, 67, 0.15);\n",
              "      fill: #174EA6;\n",
              "    }\n",
              "\n",
              "    [theme=dark] .colab-df-convert {\n",
              "      background-color: #3B4455;\n",
              "      fill: #D2E3FC;\n",
              "    }\n",
              "\n",
              "    [theme=dark] .colab-df-convert:hover {\n",
              "      background-color: #434B5C;\n",
              "      box-shadow: 0px 1px 3px 1px rgba(0, 0, 0, 0.15);\n",
              "      filter: drop-shadow(0px 1px 2px rgba(0, 0, 0, 0.3));\n",
              "      fill: #FFFFFF;\n",
              "    }\n",
              "  </style>\n",
              "\n",
              "      <script>\n",
              "        const buttonEl =\n",
              "          document.querySelector('#df-0f570303-f9a6-48ca-902c-55cab5e2dcb9 button.colab-df-convert');\n",
              "        buttonEl.style.display =\n",
              "          google.colab.kernel.accessAllowed ? 'block' : 'none';\n",
              "\n",
              "        async function convertToInteractive(key) {\n",
              "          const element = document.querySelector('#df-0f570303-f9a6-48ca-902c-55cab5e2dcb9');\n",
              "          const dataTable =\n",
              "            await google.colab.kernel.invokeFunction('convertToInteractive',\n",
              "                                                     [key], {});\n",
              "          if (!dataTable) return;\n",
              "\n",
              "          const docLinkHtml = 'Like what you see? Visit the ' +\n",
              "            '<a target=\"_blank\" href=https://colab.research.google.com/notebooks/data_table.ipynb>data table notebook</a>'\n",
              "            + ' to learn more about interactive tables.';\n",
              "          element.innerHTML = '';\n",
              "          dataTable['output_type'] = 'display_data';\n",
              "          await google.colab.output.renderOutput(dataTable, element);\n",
              "          const docLink = document.createElement('div');\n",
              "          docLink.innerHTML = docLinkHtml;\n",
              "          element.appendChild(docLink);\n",
              "        }\n",
              "      </script>\n",
              "    </div>\n",
              "  </div>\n",
              "  "
            ]
          },
          "metadata": {},
          "execution_count": 9
        }
      ],
      "source": [
        "train_columns = data_adult.columns.difference([\"fnlwgt\", \"education-num\", \"marital-status_Divorced\", \"marital-status_Married-AF-spouse\", \"marital-status_Married-civ-spouse\", \"marital-status_Married-spouse-absent\", \"marital-status_Never-married\", \"marital-status_Separated\", \"marital-status_Widowed\", \"relationship_Husband\", \"relationship_Not-in-family\", \"relationship_Other-relative\", \"relationship_Own-child\", \"relationship_Unmarried\", \"relationship_Wife\"])\n",
        "data_adult = data_adult[data_adult.columns.difference([\"fnlwgt\", \"education-num\", \"marital-status_Divorced\", \"marital-status_Married-AF-spouse\", \"marital-status_Married-civ-spouse\", \"marital-status_Married-spouse-absent\", \"marital-status_Never-married\", \"marital-status_Separated\", \"marital-status_Widowed\", \"relationship_Husband\", \"relationship_Not-in-family\", \"relationship_Other-relative\", \"relationship_Own-child\", \"relationship_Unmarried\", \"relationship_Wife\"])]\n",
        "data_adult"
      ]
    },
    {
      "cell_type": "markdown",
      "metadata": {
        "id": "uLNHhj7Pgl3n"
      },
      "source": [
        "### 3. Нормализация данных"
      ]
    },
    {
      "cell_type": "markdown",
      "metadata": {
        "id": "k3GMjp33gl3n"
      },
      "source": [
        "**(1 балл)**\n",
        "- Проведите анализ шкал признаков (Какого порядка вещественные признаки?) Можно с помощью гистограммы.\n",
        "- Напишите, к каким проблемам может привести разница в шкалах различных признаков.\n",
        "\n",
        "Может возникнуть проблема с корректной работой различных алгоритмов, то есть возможна неустойчивость работы модели, ухудшение результатов обучения и замедления процесса моделирования\n",
        "- На какие алгоритмы машинного обучения может повлиять данная проблема и почему.\n",
        "\n",
        "1) K-NN, так как этот алгоритм основан на расстояние, нормировка может значительно на него повлиять\n",
        "\n",
        "2) Логистическая регрессия, так как этот алгоритм основан на дисперсии значений\n",
        "- На какие алгоритмы машинного обучения не влияет масштабирование данных.\n",
        "\n",
        "1) Агоритм деревьев решений или случайные леса, они ищут наилучшую точку разделения в каждой функции, это определяется процентным соотношением, следовательно, нормировка не оказывает существенного влияния"
      ]
    },
    {
      "cell_type": "code",
      "source": [
        "data_adult.hist (column='age', bins = 50)\n",
        "data_adult.hist (column='capital-gain', bins = 50)\n",
        "data_adult.hist (column='capital-loss', bins = 50)\n",
        "data_adult.hist (column='hours-per-week', bins = 50)\n"
      ],
      "metadata": {
        "colab": {
          "base_uri": "https://localhost:8080/",
          "height": 1000
        },
        "id": "c2qZcCMmwtFP",
        "outputId": "f6e1f150-7d40-4f01-9778-f253a34f12a6"
      },
      "execution_count": null,
      "outputs": [
        {
          "output_type": "execute_result",
          "data": {
            "text/plain": [
              "array([[<Axes: title={'center': 'hours-per-week'}>]], dtype=object)"
            ]
          },
          "metadata": {},
          "execution_count": 13
        },
        {
          "output_type": "display_data",
          "data": {
            "text/plain": [
              "<Figure size 640x480 with 1 Axes>"
            ],
            "image/png": "[encoded data removed]"
          },
          "metadata": {}
        },
        {
          "output_type": "display_data",
          "data": {
            "text/plain": [
              "<Figure size 640x480 with 1 Axes>"
            ],
            "image/png": "[encoded data removed]"
          },
          "metadata": {}
        },
        {
          "output_type": "display_data",
          "data": {
            "text/plain": [
              "<Figure size 640x480 with 1 Axes>"
            ],
            "image/png": "[encoded data removed]"
          },
          "metadata": {}
        },
        {
          "output_type": "display_data",
          "data": {
            "text/plain": [
              "<Figure size 640x480 with 1 Axes>"
            ],
            "image/png": "[encoded data removed]"
          },
          "metadata": {}
        }
      ]
    },
    {
      "cell_type": "markdown",
      "metadata": {
        "id": "4PPwwfaJgl3o"
      },
      "source": [
        "**(1 балл)**\n",
        "- Масштабируйте данные\n",
        "- Выделите отдельно X (ваши признаки) и y - ваша колонка таргета"
      ]
    },
    {
      "cell_type": "code",
      "execution_count": null,
      "metadata": {
        "id": "0IuK1alDgl3o"
      },
      "outputs": [],
      "source": [
        "from sklearn.preprocessing import StandardScaler\n",
        "scaler = StandardScaler(with_mean=True, with_std=True)\n",
        "scaler = scaler.fit_transform(data_adult)\n",
        "X = pd.DataFrame(scaler, columns=train_columns)\n",
        "y = target\n",
        "\n",
        "\n"
      ]
    },
    {
      "cell_type": "markdown",
      "metadata": {
        "id": "c_As3Grzgl3o"
      },
      "source": [
        "Далее используйте масштабированные признаки"
      ]
    },
    {
      "cell_type": "markdown",
      "metadata": {
        "id": "sDSHCck7gl3p"
      },
      "source": [
        "### 4. Валидация"
      ]
    },
    {
      "cell_type": "markdown",
      "metadata": {
        "id": "_1AI3t7ygl3p"
      },
      "source": [
        "В нашем случае будем валидироваться с помощью KFold + сохранение баланса классов в каждом \"фолде\" с помощью StratifiedKFold из sklearn.model_selection"
      ]
    },
    {
      "cell_type": "markdown",
      "metadata": {
        "id": "quo-_2Htgl3q"
      },
      "source": [
        "**(1 балл)**\n",
        "\n",
        "Расскажите:\n",
        "- Какие виды валидации вы знаете?\n",
        "\n",
        "1) Случайное разбиение на тестовую и обучающую выборку\n",
        "\n",
        "2) Кросс-валидация\n",
        "- Какие минусы и плюсы каждого подхода к валидации?\n",
        "\n",
        "1) Плюсы и минусы случайного разбиения на тестовую и обучающую выборку:\n",
        "\n",
        "Плюсы: борется с переобучением; более быстрая, чем кросс-валидации\n",
        "\n",
        "Минусы: плохо работает с зависимыми данными; используются не все данные, что может снизить объективность проверки\n",
        "\n",
        "2) Плюсы и минусы кросс - валидации :\n",
        "\n",
        "Плюсы: используются все данные, что удобно, если данных мало; получается больше метрик; возможность работать с зависимыми данными.\n",
        "\n",
        "Минусы: довольно долго по времени\n",
        "\n",
        "\n",
        "- В чем преимущество StratifiedKFold над KFold?\n",
        "\n",
        "KFold - это средство перекрестной проверки, которое просто делит набор данных на k фолдов, тогда как StratifiedKFold  предназначена для обеспечения того, чтобы каждый фолд набора данных имел одинаковую долю наблюдений с заданной меткой.\n",
        "\n"
      ]
    },
    {
      "cell_type": "markdown",
      "metadata": {
        "id": "Jn-9uABjgl3q"
      },
      "source": [
        "### 5. Выбор алгоритма и оптимизация"
      ]
    },
    {
      "cell_type": "markdown",
      "metadata": {
        "id": "q1INiIxigl3q"
      },
      "source": [
        "При подборе алгоритма будем варьировать не один параметр, а несколько в каждом алгоритме.\n",
        "\n",
        "Выберем 3 алгоритма:\n",
        "\n",
        " - kNN (подробнее [здесь](http://scikit-learn.org/stable/modules/generated/sklearn.neighbors.KNeighborsClassifier.html))\n",
        " - SGD Linear Classifier (подробнее [здесь](http://scikit-learn.org/stable/modules/generated/sklearn.linear_model.SGDClassifier.html))\n",
        " - RandomForest (подробнее [здесь](http://scikit-learn.org/stable/modules/generated/sklearn.ensemble.RandomForestClassifier.html))\n"
      ]
    },
    {
      "cell_type": "markdown",
      "metadata": {
        "id": "gmbOXXf4gl3r"
      },
      "source": [
        "### 5.1 kNN"
      ]
    },
    {
      "cell_type": "markdown",
      "metadata": {
        "id": "yt3B9oCYgl3r"
      },
      "source": [
        "**(3 балла)**\n",
        "- Инициализируйте дефолтную модель (модель с дефолтными гиперпараметрами).\n",
        "- Инициализируйте GridSearchCV для подбора гиперпараметров (подробнее [здесь](https://scikit-learn.org/stable/modules/generated/sklearn.model_selection.GridSearchCV.html)). Не забудьте задать параметр cv (число фолдов выберите из диапазона от 3 до 10).\n",
        "- Подберите наилучшие параметры для модели с помощью GridSearchCV.\n",
        "- Постройте график зависимости качества ROC_AUC от параметров (получается 2 графика) с доверительным интервалом. Ось Х - значения параметра, ось Y - значения ROC_AUC.\n",
        "\n",
        "Подберите оптимальные параметры:\n",
        "- Число соседей (**n_neighbors**) Перебирайте в диапазоне от 0 до 50.\n",
        "- Метрика (**metric**) Перебирайте из \\['minkowski', 'euclidean', 'chebyshev', 'manhattan'\\].\n",
        "\n",
        "Если подбор занимает очень много времени:\n",
        "* Задайте значение параметра n_jobs=-1.\n",
        "* Перебирайте значения из диапазона с шагом 2-5.\n",
        "\n",
        "Для построения графика зависимости качества модели от показателя metric по оси идут 4 категории метрики. Для построения подобного графика, используйте xticks из pylab. Подробнее [здесь](https://matplotlib.org/3.1.1/api/_as_gen/matplotlib.pyplot.xticks.html) Потыкайте на картиночки, там откроется код."
      ]
    },
    {
      "cell_type": "markdown",
      "metadata": {
        "id": "QxLEbMs9gl3s"
      },
      "source": [
        "Чтобы взять лучшую модель из GridSearchCV используйте метод gsCV.best_estimator_ после того, как обучите GridSearchCV на подбор лучших гиперпараметров.\n",
        "\n",
        "gsCV.best_estimator_ вернет модель с наилучшими гиперпараметрами с точки зрения качества roc_auc на кросс-валидации.\n",
        "\n",
        "Чтобы посмотреть параметры лучшей модели, используйте gsCV.best_params_"
      ]
    },
    {
      "cell_type": "code",
      "execution_count": null,
      "metadata": {
        "id": "2ka_H4XIgl3t"
      },
      "outputs": [],
      "source": [
        "from sklearn.neighbors import KNeighborsClassifier\n",
        "from sklearn.model_selection import GridSearchCV\n",
        "from sklearn import model_selection"
      ]
    },
    {
      "cell_type": "code",
      "execution_count": null,
      "metadata": {
        "id": "tu044al4gl3t",
        "colab": {
          "base_uri": "https://localhost:8080/"
        },
        "outputId": "7fa82b16-df24-40e3-e095-c76c7d037d32"
      },
      "outputs": [
        {
          "output_type": "execute_result",
          "data": {
            "text/plain": [
              "{'metric': 'manhattan', 'n_neighbors': 46}"
            ]
          },
          "metadata": {},
          "execution_count": 16
        }
      ],
      "source": [
        "#x_train, x_test, y_train, y_test = train_test_split(x, y, test_size = 0.2)\n",
        "knn = KNeighborsClassifier(n_neighbors = 3)\n",
        "knn.fit(X,y)\n",
        "knn2 = KNeighborsClassifier()\n",
        "params = {\"n_neighbors\": np.arange(1, 51, 5), \"metric\": ['minkowski', 'euclidean', 'chebyshev', 'manhattan']}\n",
        "knn_gscv = GridSearchCV(estimator=knn2, param_grid=params, cv=5, n_jobs=-1, scoring='roc_auc')\n",
        "knn_gscv.fit(X, y)\n",
        "knn_gscv.best_params_\n"
      ]
    },
    {
      "cell_type": "code",
      "execution_count": null,
      "metadata": {
        "id": "N5PGk5YKgl3u",
        "colab": {
          "base_uri": "https://localhost:8080/",
          "height": 483
        },
        "outputId": "866cdf9e-1833-4909-e1c7-fc42e5392b54"
      },
      "outputs": [
        {
          "output_type": "execute_result",
          "data": {
            "text/plain": [
              "<matplotlib.collections.PolyCollection at 0x7f007c967130>"
            ]
          },
          "metadata": {},
          "execution_count": 17
        },
        {
          "output_type": "display_data",
          "data": {
            "text/plain": [
              "<Figure size 640x480 with 1 Axes>"
            ],
            "image/png": "[encoded data removed]"
          },
          "metadata": {}
        }
      ],
      "source": [
        "import pylab as pl\n",
        "x_kNN = range(4)\n",
        "result = np.zeros(4)\n",
        "error = np.zeros(4)\n",
        "xTicks = ['minkowski', 'euclidean', 'chebyshev', 'manhattan']\n",
        "for i in range(4):\n",
        "  knn = KNeighborsClassifier(n_neighbors = 21, metric = xTicks[i])\n",
        "  knn.fit(X,y)\n",
        "  kfold = model_selection.StratifiedKFold(n_splits=10, shuffle=True, random_state=True)\n",
        "  results = model_selection.cross_val_score(knn, X, y, cv=kfold)\n",
        "  result[i] = results.mean()\n",
        "  error[i]=1.95*results.std()\n",
        "# rotation - поварьируйте (это угол поворота названий категорий гиперпараметров)\n",
        "pl.xticks(range(4), xTicks, rotation=30)\n",
        "pl.plot(x_kNN, result, color=\"blue\")\n",
        "pl.plot(x_kNN, result - error, color = 'green')\n",
        "pl.plot(x_kNN, result + error, color = 'green')\n",
        "pl.fill_between(x_kNN, result - error, result + error, color = 'green')"
      ]
    },
    {
      "cell_type": "code",
      "execution_count": null,
      "metadata": {
        "id": "Ijm2sdU8gl3u",
        "colab": {
          "base_uri": "https://localhost:8080/",
          "height": 447
        },
        "outputId": "bb6714b0-26e3-4266-e302-505d7a460c87"
      },
      "outputs": [
        {
          "output_type": "execute_result",
          "data": {
            "text/plain": [
              "<matplotlib.collections.PolyCollection at 0x7f0073c84dc0>"
            ]
          },
          "metadata": {},
          "execution_count": 20
        },
        {
          "output_type": "display_data",
          "data": {
            "text/plain": [
              "<Figure size 640x480 with 1 Axes>"
            ],
            "image/png": "[encoded data removed]"
          },
          "metadata": {}
        }
      ],
      "source": [
        "import pylab as pl\n",
        "x_kNN = list(range(1,51,5))\n",
        "result = []\n",
        "error = []\n",
        "err = []\n",
        "err1 = []\n",
        "for i in range(1,51, 5):\n",
        "  knn = KNeighborsClassifier(n_neighbors = i)\n",
        "  knn.fit(X,y)\n",
        "  kfold = model_selection.StratifiedKFold(n_splits=10, shuffle=True, random_state=True)\n",
        "  results = model_selection.cross_val_score(knn, X, y, cv=kfold)\n",
        "  result.append(results.mean())\n",
        "  error.append(1.95*results.std())\n",
        "for i in range(len(x_kNN)):\n",
        "  x_kNN[i] = x_kNN[i]+1\n",
        "for i in range(len(error)):\n",
        "  err.append(result[i]-error[i])\n",
        "  err1.append(result[i]+error[i])\n",
        "pl.plot(x_kNN, result, color=\"blue\")\n",
        "pl.plot(x_kNN, err, color = 'green')\n",
        "pl.plot(x_kNN, err1, color = 'green')\n",
        "pl.fill_between(x_kNN, err, err1, color = 'green')"
      ]
    },
    {
      "cell_type": "markdown",
      "metadata": {
        "id": "ZWCszr2Ngl3u"
      },
      "source": [
        "### 5.2 SGD Linear Classifier"
      ]
    },
    {
      "cell_type": "markdown",
      "metadata": {
        "id": "QPsegHipgl3v"
      },
      "source": [
        "**(3 балла)**\n",
        "- Инициализируйте дефолтную модель (модель с дефолтными гиперпараметрами)\n",
        "- Инициализируйте GridSearchCV для подбора гиперпараметров (подробнее [здесь](https://scikit-learn.org/stable/modules/generated/sklearn.model_selection.GridSearchCV.html)). Не забудьте задать параметр cv (число фолдов выберите из диапазона от 3 до 10).\n",
        "- Подберите наилучшие параметры для модели с помощью GridSearchCV.\n",
        "- Постройте график зависимости качества ROC_AUC от параметров (получается 2 графика) с доверительным интервалом. Ось Х - значения параметра, ось Y - значения ROC_AUC.\n",
        "\n",
        "Подберите оптимальные параметры:\n",
        "- Loss функция (**loss**) Перебирайте из \\['hinge', 'log', 'modified_huber', 'squared_hinge', 'perceptron', 'squared_loss', 'huber', 'epsilon_insensitive'\\]\n",
        "- Вид штрафа (**penalty**) Перебирайте из \\['none', 'l2', 'l1', 'elasticnet'\\]\n",
        "\n",
        "\n",
        "Для построения графика зависимости качества модели от показателей loss, penalty по оси \"x\" идут категории. Для построения подобного графика, используйте xticks из pylab. Подробнее [здесь](https://matplotlib.org/3.1.1/api/_as_gen/matplotlib.pyplot.xticks.html) Потыкайте на картиночки, там откроется код."
      ]
    },
    {
      "cell_type": "markdown",
      "metadata": {
        "id": "Z9PnemdTgl3v"
      },
      "source": [
        "Чтобы взять лучшую модель из GridSearchCV используйте метод gsCV.best_estimator_ после того, как обучите GridSearchCV на подбор лучших гиперпараметров.\n",
        "\n",
        "gsCV.best_estimator_ вернет модель с наилучшими гиперпараметрами с точки зрения качества roc_auc на кросс-валидации.\n",
        "\n",
        "Чтобы посмотреть параметры лучшей модели, используйте gsCV.best_params_"
      ]
    },
    {
      "cell_type": "code",
      "execution_count": null,
      "metadata": {
        "id": "KYHupy8egl3v"
      },
      "outputs": [],
      "source": [
        "from sklearn.linear_model import SGDClassifier"
      ]
    },
    {
      "cell_type": "code",
      "execution_count": null,
      "metadata": {
        "id": "ym_lG3jCgl3v",
        "colab": {
          "base_uri": "https://localhost:8080/"
        },
        "outputId": "26c9ba1c-1ef8-4a25-bbe9-bb2006949c0e"
      },
      "outputs": [
        {
          "output_type": "execute_result",
          "data": {
            "text/plain": [
              "{'loss': 'log', 'penalty': 'l1'}"
            ]
          },
          "metadata": {},
          "execution_count": 23
        }
      ],
      "source": [
        "clf = SGDClassifier(loss=\"hinge\", penalty=\"l2\")\n",
        "clf.fit(X, y)\n",
        "clf1 = SGDClassifier()\n",
        "params = {'loss':['hinge', 'log', 'modified_huber', 'squared_hinge', 'perceptron', 'log_loss', 'huber', 'epsilon_insensitive'], 'penalty':[None, 'l2', 'l1', 'elasticnet']}\n",
        "sgd_gscv = GridSearchCV(estimator=clf1, param_grid=params, cv=5, n_jobs=-1, scoring='roc_auc')\n",
        "sgd_gscv.fit(X, y)\n",
        "sgd_gscv.best_params_\n"
      ]
    },
    {
      "cell_type": "code",
      "execution_count": null,
      "metadata": {
        "id": "SjDNq1J7gl3v",
        "colab": {
          "base_uri": "https://localhost:8080/",
          "height": 511
        },
        "outputId": "b6cad11d-ae7d-44af-8375-eef91d2d8012"
      },
      "outputs": [
        {
          "output_type": "execute_result",
          "data": {
            "text/plain": [
              "<matplotlib.collections.PolyCollection at 0x7f0073c34670>"
            ]
          },
          "metadata": {},
          "execution_count": 24
        },
        {
          "output_type": "display_data",
          "data": {
            "text/plain": [
              "<Figure size 640x480 with 1 Axes>"
            ],
            "image/png": "[encoded data removed]"
          },
          "metadata": {}
        }
      ],
      "source": [
        "import pylab as pl\n",
        "x_SGD = range(8)\n",
        "result = np.zeros(8)\n",
        "error = np.zeros(8)\n",
        "xTicks = ['hinge', 'log', 'modified_huber', 'squared_hinge', 'perceptron', 'log_loss', 'huber', 'epsilon_insensitive']\n",
        "for i in range(8):\n",
        "  clf = SGDClassifier(loss=xTicks[i])\n",
        "  clf.fit(X,y)\n",
        "  kfold = model_selection.StratifiedKFold(n_splits=10, shuffle=True, random_state=True)\n",
        "  results = model_selection.cross_val_score(clf, X, y, cv=kfold)\n",
        "  result[i] = results.mean()\n",
        "  error[i] = result.mean()\n",
        "# rotation - поварьируйте (это угол поворота названий категорий гиперпараметров)\n",
        "pl.xticks(range(8), xTicks, rotation=30)\n",
        "pl.plot(x_SGD, result, color=\"blue\")\n",
        "pl.plot(x_SGD, result - error, color = 'green')\n",
        "pl.plot(x_SGD, result + error, color = 'green')\n",
        "pl.fill_between(x_SGD, result - error, result + error, color = 'green')"
      ]
    },
    {
      "cell_type": "code",
      "execution_count": null,
      "metadata": {
        "id": "VAZF8XQRgl3w",
        "colab": {
          "base_uri": "https://localhost:8080/",
          "height": 479
        },
        "outputId": "36aeb875-a834-44c0-a051-4a8a6db782a9"
      },
      "outputs": [
        {
          "output_type": "execute_result",
          "data": {
            "text/plain": [
              "<matplotlib.collections.PolyCollection at 0x7f007c887190>"
            ]
          },
          "metadata": {},
          "execution_count": 25
        },
        {
          "output_type": "display_data",
          "data": {
            "text/plain": [
              "<Figure size 640x480 with 1 Axes>"
            ],
            "image/png": "[encoded data removed]"
          },
          "metadata": {}
        }
      ],
      "source": [
        "import pylab as pl\n",
        "x_SGD = range(4)\n",
        "result = np.zeros(4)\n",
        "error = np.zeros(4)\n",
        "xTicks = [\"None\", 'l2', 'l1', 'elasticnet']\n",
        "xTicks1 = [None, 'l2', 'l1', 'elasticnet']\n",
        "for i in range(4):\n",
        "  clf = SGDClassifier(penalty=xTicks1[i])\n",
        "  clf.fit(X,y)\n",
        "  kfold = model_selection.StratifiedKFold(n_splits=10, shuffle=True, random_state=True)\n",
        "  results = model_selection.cross_val_score(clf, X, y, cv=kfold)\n",
        "  result[i] = results.mean()\n",
        "  error[i] = result.std()\n",
        "# rotation - поварьируйте (это угол поворота названий категорий гиперпараметров)\n",
        "pl.xticks(range(4), xTicks, rotation=30)\n",
        "pl.plot(x_SGD, result, color=\"blue\")\n",
        "pl.plot(x_SGD, result - error, color = 'green')\n",
        "pl.plot(x_SGD, result + error, color = 'green')\n",
        "pl.fill_between(x_SGD, result - error, result + error, color = 'green')"
      ]
    },
    {
      "cell_type": "markdown",
      "metadata": {
        "id": "3A8DJC1Mgl3w"
      },
      "source": [
        "### 5.3 RandomForestClassifier"
      ]
    },
    {
      "cell_type": "markdown",
      "metadata": {
        "id": "W7F-IQa0gl3w"
      },
      "source": [
        "**(3 балла)**\n",
        "- Инициализируйте дефолтную модель (модель с дефолтными гиперпараметрами).\n",
        "- Инициализируйте GridSearchCV для подбора гиперпараметров (подробнее [здесь](https://scikit-learn.org/stable/modules/generated/sklearn.model_selection.GridSearchCV.html)). Не забудьте задать параметр cv (число фолдов выберите из диапазона от 3 до 10).\n",
        "- Подберите наилучшие параметры для модели с помощью GridSearchCV.\n",
        "- Постройте график зависимости качества ROC_AUC от параметров (получается 2 графика) с доверительным интервалом. Ось Х - значения параметра, ось Y - значения ROC_AUC.\n",
        "\n",
        "Подберите оптимальные параметры:\n",
        "- Число деревьев (**n_estimators**) Перебирайте в диапазоне от 0 до 100\n",
        "- Параметр максимального количества фичей для построения дерева (**max_features**) Перебирайте из \\['auto', 'sqrt', 'log2', None\\]\n",
        "- Критерий разбиения на поддеревья (**criterion**) Перебирайте из \\['gini', 'entropy'\\]\n",
        "\n",
        "\n",
        "Для построения графика зависимости качества модели от показателей max_features, criterion по оси \"x\" идут категории. Для построения подобного графика, используйте xticks из pylab. Подробнее [здесь](https://matplotlib.org/3.1.1/api/_as_gen/matplotlib.pyplot.xticks.html) Потыкайте на картиночки, там откроется код."
      ]
    },
    {
      "cell_type": "markdown",
      "metadata": {
        "id": "BORa4o6cgl3w"
      },
      "source": [
        "Чтобы взять лучшую модель из GridSearchCV используйте метод gsCV.best_estimator_ после того, как обучите GridSearchCV на подбор лучших гиперпараметров.\n",
        "\n",
        "gsCV.best_estimator_ вернет модель с наилучшими гиперпараметрами с точки зрения качества roc_auc на кросс-валидации.\n",
        "\n",
        "Чтобы посмотреть параметры лучшей модели, используйте gsCV.best_params_"
      ]
    },
    {
      "cell_type": "markdown",
      "metadata": {
        "id": "r0IIj23jgl3x"
      },
      "source": [
        "#### Важно!!!\n",
        "\n",
        "Число деревьев (**n_estimators**) перебирать с помощью GridSearchCV НЕ НАДО!\n",
        "\n",
        "Если задание ниже не получится (можете по-старинке перебирать (но придется долго ждать))\n",
        "\n",
        "**(2 балла)**\n",
        "\n",
        "Подберём число деревьев (n_estimators) в алгоритме RandomForest, начиная с которого качество стабилизируется. Выполните задание одним из предложенных способов (можете сделать двумя, а потом сравнить их результаты).\n",
        "\n",
        "_Способ 1_\n",
        "1. Разбейте выборку на обучающую и тестовую с помощью train_test_split.\n",
        "2. Для каждого числа деревьев:\n",
        "  - Обучите модель на обучающей выборке\n",
        "  - Посчитайте скор на тестовой выборке\n",
        "  - Сохраните скор\n",
        "3. Проанализируйте зависимость качества предсказания модели от числа деревьев (постройте график).\n",
        "4. Напишите какое оптимальное количество деревьев следует использовать и почему.\n",
        "\n",
        "_Способ 2_\n",
        "1. Для каждого числа деревьев:\n",
        "  - Посчитайте скор, используя cross_val_score\n",
        "  - Сохраните скор\n",
        "3. Проанализируйте зависимость качества предсказания модели от числа деревьев (постройте график).\n",
        "4. Напишите какое оптимальное количество деревьев следует использовать и почему.\n",
        "\n",
        "В дальнейших экспериментах используйте подобранное количество деревьев."
      ]
    },
    {
      "cell_type": "code",
      "execution_count": null,
      "metadata": {
        "id": "jmUV8p4Ngl3x"
      },
      "outputs": [],
      "source": [
        "from sklearn.ensemble import RandomForestClassifier\n",
        "from sklearn.model_selection import train_test_split, cross_val_score\n",
        "from sklearn.metrics import accuracy_score"
      ]
    },
    {
      "cell_type": "markdown",
      "metadata": {
        "id": "f_qlnNvhgl3x"
      },
      "source": [
        "#### Сначала подберите оптимальное количество деревьев, зафиксируйте, затем другие параметры."
      ]
    },
    {
      "cell_type": "code",
      "execution_count": null,
      "metadata": {
        "id": "UqNkfkfFgl3y",
        "colab": {
          "base_uri": "https://localhost:8080/",
          "height": 447
        },
        "outputId": "68385ab8-2e53-476b-af42-e64661829191"
      },
      "outputs": [
        {
          "output_type": "execute_result",
          "data": {
            "text/plain": [
              "[<matplotlib.lines.Line2D at 0x7f00737aa220>]"
            ]
          },
          "metadata": {},
          "execution_count": 27
        },
        {
          "output_type": "display_data",
          "data": {
            "text/plain": [
              "<Figure size 640x480 with 1 Axes>"
            ],
            "image/png": "[encoded data removed]"
          },
          "metadata": {}
        }
      ],
      "source": [
        "max_trees_number = 100\n",
        "trees = range(1,101)\n",
        "result = []\n",
        "X_train, X_test, y_train, y_test = train_test_split(X, y, test_size = 0.2) # для способа 1\n",
        "\n",
        "# Подсказка\n",
        "for current_trees_number in range(1, 101):\n",
        "    # инициализируем модель\n",
        "    RFC_model = RandomForestClassifier(n_estimators= current_trees_number)\n",
        "    # обучаем модель\n",
        "    RFC_model.fit(X_train, y_train)\n",
        "    # считаем скор\n",
        "    l = RFC_model.score(X_test, y_test)\n",
        "    # сохраняем скор\n",
        "    result.append(l)\n",
        "k = (result.index(max(result)))+1\n",
        "plt.plot(trees, result, color = \"green\")"
      ]
    },
    {
      "cell_type": "code",
      "execution_count": null,
      "metadata": {
        "id": "MMjcU3cQgl3y",
        "colab": {
          "base_uri": "https://localhost:8080/"
        },
        "outputId": "f8331693-42fe-484c-f165-ece439b66b1f"
      },
      "outputs": [
        {
          "output_type": "stream",
          "name": "stdout",
          "text": [
            "Оптимальное число деревьев:  94\n"
          ]
        },
        {
          "output_type": "execute_result",
          "data": {
            "text/plain": [
              "{'criterion': 'entropy', 'max_features': None}"
            ]
          },
          "metadata": {},
          "execution_count": 28
        }
      ],
      "source": [
        "RFS = RandomForestClassifier(n_estimators= k, max_features = \"auto\", criterion = \"gini\")\n",
        "RFS.fit(X, y)\n",
        "RFS1 = RandomForestClassifier(n_estimators= k)\n",
        "params = {'max_features':['auto', 'sqrt', 'log2', None], 'criterion':['gini', 'entropy']}\n",
        "rfs_gscv = GridSearchCV(estimator=RFS1, param_grid=params, cv=5, n_jobs=-1, scoring='roc_auc')\n",
        "rfs_gscv.fit(X, y)\n",
        "print(\"Оптимальное число деревьев: \", k)\n",
        "rfs_gscv.best_params_"
      ]
    },
    {
      "cell_type": "code",
      "execution_count": null,
      "metadata": {
        "id": "8Ew0QV3rgl3y",
        "colab": {
          "base_uri": "https://localhost:8080/",
          "height": 463
        },
        "outputId": "4e56d09c-a638-4e6b-b4d5-bdd6c49b6f72"
      },
      "outputs": [
        {
          "output_type": "execute_result",
          "data": {
            "text/plain": [
              "<matplotlib.collections.PolyCollection at 0x7f00736e0070>"
            ]
          },
          "metadata": {},
          "execution_count": 29
        },
        {
          "output_type": "display_data",
          "data": {
            "text/plain": [
              "<Figure size 640x480 with 1 Axes>"
            ],
            "image/png": "[encoded data removed]"
          },
          "metadata": {}
        }
      ],
      "source": [
        "import pylab as pl\n",
        "x_RFC = range(4)\n",
        "result = np.zeros(4)\n",
        "error = np.zeros(4)\n",
        "xTicks = ['auto', 'sqrt', 'log2', None]\n",
        "xTicks1 = ['auto', 'sqrt', 'log2', \"None\"]\n",
        "for i in range(4):\n",
        "  RFS = RandomForestClassifier(n_estimators= k, max_features = xTicks[i])\n",
        "  RFS.fit(X,y)\n",
        "  kfold = model_selection.StratifiedKFold(n_splits=10, shuffle=True, random_state=True)\n",
        "  results = model_selection.cross_val_score(RFS, X, y, cv=kfold)\n",
        "  result[i] = results.mean()\n",
        "  error[i] = result.std()\n",
        "# rotation - поварьируйте (это угол поворота названий категорий гиперпараметров)\n",
        "pl.xticks(range(4), xTicks1, rotation=30)\n",
        "pl.plot(x_RFC, result, color=\"blue\")\n",
        "pl.plot(x_RFC, result - error, color = 'green')\n",
        "pl.plot(x_RFC, result + error, color = 'green')\n",
        "pl.fill_between(x_RFC, result - error, result + error, color = 'green')"
      ]
    },
    {
      "cell_type": "code",
      "execution_count": null,
      "metadata": {
        "id": "A82TIFpFgl3y",
        "colab": {
          "base_uri": "https://localhost:8080/",
          "height": 472
        },
        "outputId": "17c3b6ba-f368-483d-d519-22a083bdaef2"
      },
      "outputs": [
        {
          "output_type": "execute_result",
          "data": {
            "text/plain": [
              "<matplotlib.collections.PolyCollection at 0x7f00736d4bb0>"
            ]
          },
          "metadata": {},
          "execution_count": 30
        },
        {
          "output_type": "display_data",
          "data": {
            "text/plain": [
              "<Figure size 640x480 with 1 Axes>"
            ],
            "image/png": "[encoded data removed]"
          },
          "metadata": {}
        }
      ],
      "source": [
        "import pylab as pl\n",
        "x_RFC = range(2)\n",
        "result = np.zeros(2)\n",
        "error = np.zeros(2)\n",
        "xTicks = ['gini', 'entropy']\n",
        "for i in range(2):\n",
        "  RFS = RandomForestClassifier(n_estimators= k, criterion = xTicks[i])\n",
        "  RFS.fit(X,y)\n",
        "  kfold = model_selection.StratifiedKFold(n_splits=10, shuffle=True, random_state=True)\n",
        "  results = model_selection.cross_val_score(RFS, X, y, cv=kfold)\n",
        "  result[i] = results.mean()\n",
        "  error[i] = results.std()\n",
        "# rotation - поварьируйте (это угол поворота названий категорий гиперпараметров)\n",
        "pl.xticks(range(2), xTicks, rotation=30)\n",
        "pl.plot(x_RFC, result, color=\"blue\")\n",
        "pl.plot(x_RFC, result - error, color = 'green')\n",
        "pl.plot(x_RFC, result + error, color = 'green')\n",
        "pl.fill_between(x_RFC, result - error, result + error, color = 'green')"
      ]
    },
    {
      "cell_type": "markdown",
      "metadata": {
        "id": "HPLuq2MLgl3z"
      },
      "source": [
        "### 6. Ансамбль моделей"
      ]
    },
    {
      "cell_type": "markdown",
      "metadata": {
        "id": "n7RteUNdgl3z"
      },
      "source": [
        "**(2 балла)**\n",
        "\n",
        "Попробуйте \"заблендить\" модели (сложить результаты (ответы) разных алгоритмов) с разными коэффициентами перед ними.\n",
        "\n",
        "Попробуйте различные комбинации алгоритмов. А так же все три алгоритма вместе."
      ]
    },
    {
      "cell_type": "markdown",
      "metadata": {
        "id": "qIJ8AzLcgl3z"
      },
      "source": [
        "$$result(x) = clf_1(x) * \\alpha + clf_2(x) * (1 - \\alpha)$$"
      ]
    },
    {
      "cell_type": "markdown",
      "metadata": {
        "id": "xnGjzpo_gl3z"
      },
      "source": [
        "Подробнее про ансамбли: [здесь](https://dyakonov.org/2017/03/10/cтекинг-stacking-и-блендинг-blending/)\n",
        "\n",
        "Простой пример использования VotingClassifier и его описание можно найти в официальной документации: [здесь](https://scikit-learn.org/stable/modules/generated/sklearn.ensemble.VotingClassifier.html)\n"
      ]
    },
    {
      "cell_type": "code",
      "execution_count": null,
      "metadata": {
        "id": "iFThxOJxgl3z"
      },
      "outputs": [],
      "source": [
        "# Библиотека для блендинга\n",
        "from sklearn.ensemble import VotingClassifier"
      ]
    },
    {
      "cell_type": "markdown",
      "source": [
        "\n",
        "\n",
        "1.\n",
        "\n"
      ],
      "metadata": {
        "id": "T57HGcoHjEtE"
      }
    },
    {
      "cell_type": "code",
      "execution_count": null,
      "metadata": {
        "id": "5BygtC7Qgl30",
        "colab": {
          "base_uri": "https://localhost:8080/"
        },
        "outputId": "0fdcfd76-fe0b-44da-a316-7bfbe8ba47de"
      },
      "outputs": [
        {
          "output_type": "stream",
          "name": "stdout",
          "text": [
            "{'weights': [0.5, 0.5]}\n",
            "0.8520255458282774\n"
          ]
        }
      ],
      "source": [
        "kNN_model = knn_gscv.best_estimator_\n",
        "clf_model = sgd_gscv.best_estimator_\n",
        "rfc_model = rfs_gscv.best_estimator_\n",
        "vc = VotingClassifier([('kNN', kNN_model), ('clf', clf_model)], voting='soft')\n",
        "grid = GridSearchCV(estimator=vc, param_grid={'weights': [[i, 1 - i] for i in np.arange(0,1.1,0.1)]}, cv=5, n_jobs = -1, scoring='roc_auc')\n",
        "grid.fit(X, y)\n",
        "print(grid.best_params_)\n",
        "print(grid.best_score_)\n"
      ]
    },
    {
      "cell_type": "code",
      "source": [
        "vc1 = VotingClassifier([('kNN', kNN_model), ('rfc', rfc_model)], voting='soft')\n",
        "grid1 = GridSearchCV(estimator=vc1, param_grid={'weights': [[i, 1 - i] for i in np.arange(0,1.1,0.1)]}, cv=5, scoring='roc_auc')\n",
        "grid1.fit(X, y)\n",
        "print(grid1.best_params_)\n",
        "print(grid1.best_score_)"
      ],
      "metadata": {
        "colab": {
          "base_uri": "https://localhost:8080/"
        },
        "id": "qT8CO12QnJqZ",
        "outputId": "29c57054-4bb8-40b5-e5af-0f16d39d5fe9"
      },
      "execution_count": null,
      "outputs": [
        {
          "output_type": "stream",
          "name": "stdout",
          "text": [
            "{'weights': [0.6000000000000001, 0.3999999999999999]}\n",
            "0.8587281308923848\n"
          ]
        }
      ]
    },
    {
      "cell_type": "code",
      "source": [
        "vc2 = VotingClassifier([('clf', clf_model), ('rfc', rfc_model)], voting='soft')\n",
        "grid2 = GridSearchCV(estimator=vc2, param_grid={'weights': [[i, 1 - i] for i in np.arange(0,1.1,0.1)]}, cv=5, scoring='roc_auc')\n",
        "grid2.fit(X, y)\n",
        "print(grid2.best_params_)\n",
        "print(grid2.best_score_)"
      ],
      "metadata": {
        "colab": {
          "base_uri": "https://localhost:8080/"
        },
        "id": "ab59czBTpcLP",
        "outputId": "63755f47-180d-496e-cce9-fb7160bb1e18"
      },
      "execution_count": null,
      "outputs": [
        {
          "output_type": "stream",
          "name": "stdout",
          "text": [
            "{'weights': [0.6000000000000001, 0.3999999999999999]}\n",
            "0.8620467268483001\n"
          ]
        }
      ]
    },
    {
      "cell_type": "code",
      "source": [
        "vc3 = VotingClassifier([('kNN', kNN_model), ('clf', clf_model), ('rfc', rfc_model)], voting='soft')\n",
        "params = {'weights':[[0.3, 0.3, 0.4], [0.1, 0.1, 0.8], [0.35, 0.25, 0.4]]}\n",
        "grid3 = GridSearchCV(estimator=vc3, param_grid=params, cv=5, scoring='roc_auc')\n",
        "grid3.fit(X, y)\n",
        "print(grid3.best_params_)\n",
        "print(grid3.best_score_)"
      ],
      "metadata": {
        "colab": {
          "base_uri": "https://localhost:8080/"
        },
        "id": "_6qLjGMmqWrz",
        "outputId": "db51c7fe-5a1e-419b-bb2c-eef030c6183b"
      },
      "execution_count": null,
      "outputs": [
        {
          "output_type": "stream",
          "name": "stdout",
          "text": [
            "{'weights': [0.3, 0.3, 0.4]}\n",
            "0.8632638179666585\n"
          ]
        }
      ]
    },
    {
      "cell_type": "markdown",
      "metadata": {
        "id": "BH3Pr0Wpgl30"
      },
      "source": [
        "### 7. Ящик с усами"
      ]
    },
    {
      "cell_type": "markdown",
      "metadata": {
        "id": "iVp7BxGYgl30"
      },
      "source": [
        "**(2 балла)**"
      ]
    },
    {
      "cell_type": "markdown",
      "metadata": {
        "id": "OajOiWxxgl30"
      },
      "source": [
        "Давайте посмотрим визуально на качество наших моделей. Вы уже знаете, какие гиперпараметры для наших моделей являются наилучшими. Зафиксируйте данные параметры:"
      ]
    },
    {
      "cell_type": "code",
      "source": [],
      "metadata": {
        "id": "nsBO-tQU0KMT"
      },
      "execution_count": null,
      "outputs": []
    },
    {
      "cell_type": "code",
      "execution_count": null,
      "metadata": {
        "id": "Odj7BhlKgl30"
      },
      "outputs": [],
      "source": [
        "best_model_knn = KNeighborsClassifier(n_neighbors = 46, metric = 'manhattan') # Можно ручками или через .best_params_ или .best_model_\n",
        "best_model_random_forest = RandomForestClassifier(n_estimators= k, max_features = None, criterion = \"entropy\" )  # Можно ручками или через .best_params_ или .best_model_\n",
        "best_model_sgd = SGDClassifier(loss=\"log\", penalty = \"l1\")  # Можно ручками или через .best_params_ или .best_model_\n",
        "best_model_voting_classifier = grid3"
      ]
    },
    {
      "cell_type": "markdown",
      "metadata": {
        "id": "F015nnCDgl31"
      },
      "source": [
        "Посмотрим на наше качество на кросс_валидации:"
      ]
    },
    {
      "cell_type": "code",
      "execution_count": null,
      "metadata": {
        "id": "Mqcg34G_gl31"
      },
      "outputs": [],
      "source": [
        "from sklearn.model_selection import cross_val_score"
      ]
    },
    {
      "cell_type": "code",
      "execution_count": null,
      "metadata": {
        "id": "ys8k-i7Dgl31"
      },
      "outputs": [],
      "source": [
        "# В качестве cv возьмите StratifiedKFold с 7 фолдами\n",
        "vc = model_selection.StratifiedKFold(n_splits=7)\n",
        "cv_score_knn = model_selection.cross_val_score(estimator=best_model_knn, X=X, y=y, cv=vc, scoring='roc_auc')\n",
        "cv_score_random_forest = model_selection.cross_val_score(estimator=best_model_random_forest, X=X, y=y, cv=vc, scoring='roc_auc')\n",
        "cv_score_sgd = cross_val_score(estimator=best_model_sgd, X=X, y=y, cv=vc, scoring='roc_auc')\n",
        "cv_score_voting_classifier = cross_val_score(estimator=grid3, X=X, y=y, cv=vc, scoring='roc_auc')"
      ]
    },
    {
      "cell_type": "markdown",
      "metadata": {
        "id": "V_xiNQCEgl32"
      },
      "source": [
        "Создайте таблицу pandas.DataFrame с колонками названиями методов (4 колонки), а значения - выход функции cross_val_score"
      ]
    },
    {
      "cell_type": "code",
      "execution_count": null,
      "metadata": {
        "id": "7iz5yRj-gl32",
        "colab": {
          "base_uri": "https://localhost:8080/",
          "height": 80
        },
        "outputId": "7daa746b-f3fc-4001-93a5-c7a483ecda27"
      },
      "outputs": [
        {
          "output_type": "execute_result",
          "data": {
            "text/plain": [
              "        Knn    forest       sgd  voting_classifier\n",
              "0  0.827605  0.843166  0.841557           0.859982"
            ],
            "text/html": [
              "\n",
              "  <div id=\"df-25e46d6d-7fd4-482a-8333-f54374982c39\">\n",
              "    <div class=\"colab-df-container\">\n",
              "      <div>\n",
              "<style scoped>\n",
              "    .dataframe tbody tr th:only-of-type {\n",
              "        vertical-align: middle;\n",
              "    }\n",
              "\n",
              "    .dataframe tbody tr th {\n",
              "        vertical-align: top;\n",
              "    }\n",
              "\n",
              "    .dataframe thead th {\n",
              "        text-align: right;\n",
              "    }\n",
              "</style>\n",
              "<table border=\"1\" class=\"dataframe\">\n",
              "  <thead>\n",
              "    <tr style=\"text-align: right;\">\n",
              "      <th></th>\n",
              "      <th>Knn</th>\n",
              "      <th>forest</th>\n",
              "      <th>sgd</th>\n",
              "      <th>voting_classifier</th>\n",
              "    </tr>\n",
              "  </thead>\n",
              "  <tbody>\n",
              "    <tr>\n",
              "      <th>0</th>\n",
              "      <td>0.827605</td>\n",
              "      <td>0.843166</td>\n",
              "      <td>0.841557</td>\n",
              "      <td>0.859982</td>\n",
              "    </tr>\n",
              "  </tbody>\n",
              "</table>\n",
              "</div>\n",
              "      <button class=\"colab-df-convert\" onclick=\"convertToInteractive('df-25e46d6d-7fd4-482a-8333-f54374982c39')\"\n",
              "              title=\"Convert this dataframe to an interactive table.\"\n",
              "              style=\"display:none;\">\n",
              "        \n",
              "  <svg xmlns=\"http://www.w3.org/2000/svg\" height=\"24px\"viewBox=\"0 0 24 24\"\n",
              "       width=\"24px\">\n",
              "    <path d=\"M0 0h24v24H0V0z\" fill=\"none\"/>\n",
              "    <path d=\"M18.56 5.44l.94 2.06.94-2.06 2.06-.94-2.06-.94-.94-2.06-.94 2.06-2.06.94zm-11 1L8.5 8.5l.94-2.06 2.06-.94-2.06-.94L8.5 2.5l-.94 2.06-2.06.94zm10 10l.94 2.06.94-2.06 2.06-.94-2.06-.94-.94-2.06-.94 2.06-2.06.94z\"/><path d=\"M17.41 7.96l-1.37-1.37c-.4-.4-.92-.59-1.43-.59-.52 0-1.04.2-1.43.59L10.3 9.45l-7.72 7.72c-.78.78-.78 2.05 0 2.83L4 21.41c.39.39.9.59 1.41.59.51 0 1.02-.2 1.41-.59l7.78-7.78 2.81-2.81c.8-.78.8-2.07 0-2.86zM5.41 20L4 18.59l7.72-7.72 1.47 1.35L5.41 20z\"/>\n",
              "  </svg>\n",
              "      </button>\n",
              "      \n",
              "  <style>\n",
              "    .colab-df-container {\n",
              "      display:flex;\n",
              "      flex-wrap:wrap;\n",
              "      gap: 12px;\n",
              "    }\n",
              "\n",
              "    .colab-df-convert {\n",
              "      background-color: #E8F0FE;\n",
              "      border: none;\n",
              "      border-radius: 50%;\n",
              "      cursor: pointer;\n",
              "      display: none;\n",
              "      fill: #1967D2;\n",
              "      height: 32px;\n",
              "      padding: 0 0 0 0;\n",
              "      width: 32px;\n",
              "    }\n",
              "\n",
              "    .colab-df-convert:hover {\n",
              "      background-color: #E2EBFA;\n",
              "      box-shadow: 0px 1px 2px rgba(60, 64, 67, 0.3), 0px 1px 3px 1px rgba(60, 64, 67, 0.15);\n",
              "      fill: #174EA6;\n",
              "    }\n",
              "\n",
              "    [theme=dark] .colab-df-convert {\n",
              "      background-color: #3B4455;\n",
              "      fill: #D2E3FC;\n",
              "    }\n",
              "\n",
              "    [theme=dark] .colab-df-convert:hover {\n",
              "      background-color: #434B5C;\n",
              "      box-shadow: 0px 1px 3px 1px rgba(0, 0, 0, 0.15);\n",
              "      filter: drop-shadow(0px 1px 2px rgba(0, 0, 0, 0.3));\n",
              "      fill: #FFFFFF;\n",
              "    }\n",
              "  </style>\n",
              "\n",
              "      <script>\n",
              "        const buttonEl =\n",
              "          document.querySelector('#df-25e46d6d-7fd4-482a-8333-f54374982c39 button.colab-df-convert');\n",
              "        buttonEl.style.display =\n",
              "          google.colab.kernel.accessAllowed ? 'block' : 'none';\n",
              "\n",
              "        async function convertToInteractive(key) {\n",
              "          const element = document.querySelector('#df-25e46d6d-7fd4-482a-8333-f54374982c39');\n",
              "          const dataTable =\n",
              "            await google.colab.kernel.invokeFunction('convertToInteractive',\n",
              "                                                     [key], {});\n",
              "          if (!dataTable) return;\n",
              "\n",
              "          const docLinkHtml = 'Like what you see? Visit the ' +\n",
              "            '<a target=\"_blank\" href=https://colab.research.google.com/notebooks/data_table.ipynb>data table notebook</a>'\n",
              "            + ' to learn more about interactive tables.';\n",
              "          element.innerHTML = '';\n",
              "          dataTable['output_type'] = 'display_data';\n",
              "          await google.colab.output.renderOutput(dataTable, element);\n",
              "          const docLink = document.createElement('div');\n",
              "          docLink.innerHTML = docLinkHtml;\n",
              "          element.appendChild(docLink);\n",
              "        }\n",
              "      </script>\n",
              "    </div>\n",
              "  </div>\n",
              "  "
            ]
          },
          "metadata": {},
          "execution_count": 39
        }
      ],
      "source": [
        "r = []\n",
        "r.append(cv_score_knn.mean())\n",
        "r.append(cv_score_random_forest.mean())\n",
        "r.append(cv_score_sgd.mean())\n",
        "r.append(cv_score_voting_classifier.mean())\n",
        "final_result = pd.DataFrame([r], columns=[\"Knn\",\" forest\",\"sgd\",\"voting_classifier\" ])\n",
        "final_result"
      ]
    },
    {
      "cell_type": "markdown",
      "metadata": {
        "id": "gkPMu4MRgl32"
      },
      "source": [
        "Запустите код ниже"
      ]
    },
    {
      "cell_type": "code",
      "execution_count": null,
      "metadata": {
        "id": "2FH858OKgl32",
        "colab": {
          "base_uri": "https://localhost:8080/",
          "height": 430
        },
        "outputId": "b5c13068-d062-4c31-9034-0bddf560c046"
      },
      "outputs": [
        {
          "output_type": "display_data",
          "data": {
            "text/plain": [
              "<Figure size 640x480 with 1 Axes>"
            ],
            "image/png": "[encoded data removed]"
          },
          "metadata": {}
        }
      ],
      "source": [
        "ax = final_result.boxplot()\n",
        "_ = plt.setp(ax.lines, linewidth=2.0)\n",
        "plt.show()"
      ]
    },
    {
      "cell_type": "markdown",
      "metadata": {
        "id": "eBhQRFI8gl32"
      },
      "source": [
        "### 8. Выводы"
      ]
    },
    {
      "cell_type": "markdown",
      "metadata": {
        "id": "3-OUW9qxgl33"
      },
      "source": [
        "**(1 балл)**\n",
        "По графику выше сделайте вывод:\n",
        "- Какой алгоритм \"победил в соревновании\" за качество?\n",
        "- Лучший алгоритм с точки зрения качества/скорости работы (иногда это очень важно)\n",
        "- Опишите каждый алгоритм (вкратце), его плюсы и минусы"
      ]
    },
    {
      "cell_type": "markdown",
      "metadata": {
        "id": "Yzx3pG5_gl33"
      },
      "source": [
        "Судя по таблице, наилучшей результат дает комбинация всех трех алгоритмов. Если не учитывать комбинацию алгоритмов, то \"побеждает\" RandomForestClassifier."
      ]
    },
    {
      "cell_type": "markdown",
      "metadata": {
        "id": "4f4-tc90gl33"
      },
      "source": [
        "Наиболее быстро работает алгоритм sgd и для него быстрее подбирать оптимальные параметры"
      ]
    },
    {
      "cell_type": "markdown",
      "metadata": {
        "id": "c22tyARmgl33"
      },
      "source": [
        "KNN: Имеется набор данных, для каждого задается класс. Затем при обучение алгоритм запоминает векторы признаков наблюдений и их метки классов, также задается число K соседей, которое будет использоваться при классификации. Затем вычисляется расстояние до кадой точки, сортируется по возрастанию и отбираются первые K значений, среди этих точек определяется класс текущей точки из обучающейся выборки\n",
        "\n",
        "Плюсы: устойчивость к выбросам\n",
        "\n",
        "Недостатки: чувствителен к масштабу признаков; затратный в вычислительном плане; отсутсвуют правила классификации\n",
        "\n",
        "SGD: алгоритм аппроксимирует истинный градиент градиентом одного обучающего примера. Пробегая через обучающее множество, алгоритм осуществляет приведённый выше пересчёт для каждого обучающего примера. Для достижения сходимости алгоритма может потребоваться несколько проходов по обучающему набору данных.  \n",
        "\n",
        "Плюсы: эффективность; простота реализации\n",
        "\n",
        "Минсы: требует ряда гиперпараметров, таких как параметр регуляризации и количество итераций;чувствителен к масштабированию\n",
        "\n",
        "RandomForestClassifier: алгоритм строит по выборке дерево решений до тех пор, пока в каждом листе не более n объектов, или пока не будет достигнута определенная высота, затем будет получен результат прогнозирования из каждого дерева решений.\n",
        "На этом этапе голосование будет проводиться для каждого прогнозируемого результата:выбирается лучший признак, делаем разбиение в дереве по нему и повторяем этот пункт до исчерпания выборки.\n",
        "В конце выбирается результат прогноза с наибольшим количеством голосов. Это и есть окончательный результат прогнозирования.\n",
        "\n",
        "Плюсы: непредвзятый алгоритм; хорошо работает как с категориальными, так и с количественными признаками\n",
        "\n",
        "Минусы: требует большого количества вычислительных ресурсов и времени для обучения\n"
      ]
    },
    {
      "cell_type": "markdown",
      "metadata": {
        "id": "LH_m6Hilgl33"
      },
      "source": [
        "_____"
      ]
    }
  ],
  "metadata": {
    "anaconda-cloud": {},
    "kernel_info": {
      "name": "py36"
    },
    "kernelspec": {
      "display_name": "Python 3",
      "language": "python",
      "name": "python3"
    },
    "language_info": {
      "codemirror_mode": {
        "name": "ipython",
        "version": 3
      },
      "file_extension": ".py",
      "mimetype": "text/x-python",
      "name": "python",
      "nbconvert_exporter": "python",
      "pygments_lexer": "ipython3",
      "version": "3.8.5"
    },
    "nteract": {
      "version": "0.15.0"
    },
    "colab": {
      "provenance": [],
      "include_colab_link": true
    }
  },
  "nbformat": 4,
  "nbformat_minor": 0
}